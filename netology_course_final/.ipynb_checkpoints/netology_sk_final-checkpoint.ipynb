{
 "cells": [
  {
   "cell_type": "code",
   "execution_count": 1,
   "metadata": {
    "colab": {},
    "colab_type": "code",
    "id": "NVcKlsk2ETuP"
   },
   "outputs": [],
   "source": [
    "import pandas as pd"
   ]
  },
  {
   "cell_type": "code",
   "execution_count": 2,
   "metadata": {
    "colab": {},
    "colab_type": "code",
    "id": "BoGFm-u7FG__"
   },
   "outputs": [],
   "source": [
    "df = pd.read_csv('netology_dataset.csv')"
   ]
  },
  {
   "cell_type": "code",
   "execution_count": 3,
   "metadata": {
    "colab": {
     "base_uri": "https://localhost:8080/",
     "height": 1000
    },
    "colab_type": "code",
    "id": "TjSrsgrgFThT",
    "outputId": "09cf1005-f8de-43de-abad-119771bf76cf"
   },
   "outputs": [
    {
     "name": "stdout",
     "output_type": "stream",
     "text": [
      "<class 'pandas.core.frame.DataFrame'>\n",
      "RangeIndex: 92374 entries, 0 to 92373\n",
      "Data columns (total 53 columns):\n",
      "user_id                92374 non-null int64\n",
      "amount                 92374 non-null int64\n",
      "is_invoice_sent        92374 non-null int64\n",
      "is_bundle              92374 non-null int64\n",
      "is_amo_lead            92374 non-null int64\n",
      "access_days            91514 non-null float64\n",
      "start_date_dow         91514 non-null float64\n",
      "d1_complete            92374 non-null int64\n",
      "d1_duration            92374 non-null int64\n",
      "d2_complete            92374 non-null int64\n",
      "d2_duration            92374 non-null int64\n",
      "d3_complete            92374 non-null int64\n",
      "d3_duration            92374 non-null int64\n",
      "d4_complete            92374 non-null int64\n",
      "d4_duration            92374 non-null int64\n",
      "d5_complete            92374 non-null int64\n",
      "d5_duration            92374 non-null int64\n",
      "d6_complete            92374 non-null int64\n",
      "d6_duration            92374 non-null int64\n",
      "d7_complete            92374 non-null int64\n",
      "d7_duration            92374 non-null int64\n",
      "d8_complete            92374 non-null int64\n",
      "d8_duration            92374 non-null int64\n",
      "d9_complete            92374 non-null int64\n",
      "d9_duration            92374 non-null int64\n",
      "d10_complete           92374 non-null int64\n",
      "d10_duration           92374 non-null int64\n",
      "d11_complete           92374 non-null int64\n",
      "d11_duration           92374 non-null int64\n",
      "d12_complete           92374 non-null int64\n",
      "d12_duration           92374 non-null int64\n",
      "d13_complete           92374 non-null int64\n",
      "d13_duration           92374 non-null int64\n",
      "d14_complete           92374 non-null int64\n",
      "d14_duration           92374 non-null int64\n",
      "d15_complete           92374 non-null int64\n",
      "d15_duration           92374 non-null int64\n",
      "d16_complete           92374 non-null int64\n",
      "d16_duration           92374 non-null int64\n",
      "d17_complete           92374 non-null int64\n",
      "d17_duration           92374 non-null int64\n",
      "d18_complete           92374 non-null int64\n",
      "d18_duration           92374 non-null int64\n",
      "d19_complete           92374 non-null int64\n",
      "d19_duration           92374 non-null int64\n",
      "d20_complete           92374 non-null int64\n",
      "d20_duration           92374 non-null int64\n",
      "start_selfie           92374 non-null int64\n",
      "dz1                    92374 non-null int64\n",
      "dz2                    92374 non-null int64\n",
      "final_selfie           92374 non-null int64\n",
      "sent_video             92374 non-null int64\n",
      "sent_messages_count    67236 non-null float64\n",
      "dtypes: float64(3), int64(50)\n",
      "memory usage: 37.4 MB\n"
     ]
    }
   ],
   "source": [
    "df.info()"
   ]
  },
  {
   "cell_type": "code",
   "execution_count": 4,
   "metadata": {
    "colab": {},
    "colab_type": "code",
    "id": "umsHpRA6hmCy"
   },
   "outputs": [],
   "source": [
    "df.dropna(subset = [\"access_days\"], inplace=True)"
   ]
  },
  {
   "cell_type": "code",
   "execution_count": 5,
   "metadata": {
    "colab": {},
    "colab_type": "code",
    "id": "c7BZTmi-i48e"
   },
   "outputs": [],
   "source": [
    "df['sent_messages_count'].fillna(0, inplace=True)"
   ]
  },
  {
   "cell_type": "code",
   "execution_count": 6,
   "metadata": {
    "colab": {},
    "colab_type": "code",
    "id": "Y27QjXeDj8PU"
   },
   "outputs": [],
   "source": [
    "df['access_days'], df['start_date_dow'], df['sent_messages_count'] = df['access_days'].astype(int), df['start_date_dow'].astype(int), df['sent_messages_count'].astype(int)"
   ]
  },
  {
   "cell_type": "code",
   "execution_count": 7,
   "metadata": {
    "colab": {},
    "colab_type": "code",
    "id": "i6idoA7jj84k"
   },
   "outputs": [],
   "source": [
    "df_filtered = df[['amount','is_invoice_sent','is_bundle','is_amo_lead','access_days','start_date_dow','d1_complete','d1_duration','d2_complete','d2_duration','d3_complete','d3_duration','d4_complete','d4_duration','d5_complete','d5_duration','d6_complete','d6_duration','d20_complete','start_selfie','dz1','sent_video','sent_messages_count']]"
   ]
  },
  {
   "cell_type": "code",
   "execution_count": 8,
   "metadata": {
    "colab": {
     "base_uri": "https://localhost:8080/",
     "height": 102
    },
    "colab_type": "code",
    "id": "k7YpTbvxj87r",
    "outputId": "3e63ae6a-f4a8-427b-be12-ba31788530b1"
   },
   "outputs": [
    {
     "name": "stderr",
     "output_type": "stream",
     "text": [
      "/opt/anaconda3/lib/python3.7/site-packages/pandas/core/frame.py:4223: SettingWithCopyWarning: \n",
      "A value is trying to be set on a copy of a slice from a DataFrame\n",
      "\n",
      "See the caveats in the documentation: http://pandas.pydata.org/pandas-docs/stable/user_guide/indexing.html#returning-a-view-versus-a-copy\n",
      "  return super().rename(**kwargs)\n"
     ]
    }
   ],
   "source": [
    "df_filtered.rename(columns={'d20_complete':'target'}, inplace=True)"
   ]
  },
  {
   "cell_type": "code",
   "execution_count": 9,
   "metadata": {
    "colab": {
     "base_uri": "https://localhost:8080/",
     "height": 224
    },
    "colab_type": "code",
    "id": "jX5r8Kpij9Ac",
    "outputId": "a25757db-2e21-44bc-9765-49e65b452c8b"
   },
   "outputs": [
    {
     "data": {
      "text/html": [
       "<div>\n",
       "<style scoped>\n",
       "    .dataframe tbody tr th:only-of-type {\n",
       "        vertical-align: middle;\n",
       "    }\n",
       "\n",
       "    .dataframe tbody tr th {\n",
       "        vertical-align: top;\n",
       "    }\n",
       "\n",
       "    .dataframe thead th {\n",
       "        text-align: right;\n",
       "    }\n",
       "</style>\n",
       "<table border=\"1\" class=\"dataframe\">\n",
       "  <thead>\n",
       "    <tr style=\"text-align: right;\">\n",
       "      <th></th>\n",
       "      <th>amount</th>\n",
       "      <th>is_invoice_sent</th>\n",
       "      <th>is_bundle</th>\n",
       "      <th>is_amo_lead</th>\n",
       "      <th>access_days</th>\n",
       "      <th>start_date_dow</th>\n",
       "      <th>d1_complete</th>\n",
       "      <th>d1_duration</th>\n",
       "      <th>d2_complete</th>\n",
       "      <th>d2_duration</th>\n",
       "      <th>...</th>\n",
       "      <th>d4_duration</th>\n",
       "      <th>d5_complete</th>\n",
       "      <th>d5_duration</th>\n",
       "      <th>d6_complete</th>\n",
       "      <th>d6_duration</th>\n",
       "      <th>target</th>\n",
       "      <th>start_selfie</th>\n",
       "      <th>dz1</th>\n",
       "      <th>sent_video</th>\n",
       "      <th>sent_messages_count</th>\n",
       "    </tr>\n",
       "  </thead>\n",
       "  <tbody>\n",
       "    <tr>\n",
       "      <td>4</td>\n",
       "      <td>1886</td>\n",
       "      <td>0</td>\n",
       "      <td>0</td>\n",
       "      <td>0</td>\n",
       "      <td>365</td>\n",
       "      <td>4</td>\n",
       "      <td>1</td>\n",
       "      <td>6</td>\n",
       "      <td>0</td>\n",
       "      <td>0</td>\n",
       "      <td>...</td>\n",
       "      <td>0</td>\n",
       "      <td>0</td>\n",
       "      <td>0</td>\n",
       "      <td>0</td>\n",
       "      <td>0</td>\n",
       "      <td>0</td>\n",
       "      <td>1</td>\n",
       "      <td>0</td>\n",
       "      <td>0</td>\n",
       "      <td>1</td>\n",
       "    </tr>\n",
       "    <tr>\n",
       "      <td>5</td>\n",
       "      <td>1990</td>\n",
       "      <td>0</td>\n",
       "      <td>0</td>\n",
       "      <td>0</td>\n",
       "      <td>365</td>\n",
       "      <td>6</td>\n",
       "      <td>1</td>\n",
       "      <td>1</td>\n",
       "      <td>0</td>\n",
       "      <td>0</td>\n",
       "      <td>...</td>\n",
       "      <td>0</td>\n",
       "      <td>0</td>\n",
       "      <td>0</td>\n",
       "      <td>0</td>\n",
       "      <td>0</td>\n",
       "      <td>0</td>\n",
       "      <td>1</td>\n",
       "      <td>0</td>\n",
       "      <td>0</td>\n",
       "      <td>0</td>\n",
       "    </tr>\n",
       "    <tr>\n",
       "      <td>6</td>\n",
       "      <td>3480</td>\n",
       "      <td>0</td>\n",
       "      <td>0</td>\n",
       "      <td>0</td>\n",
       "      <td>59</td>\n",
       "      <td>7</td>\n",
       "      <td>1</td>\n",
       "      <td>0</td>\n",
       "      <td>1</td>\n",
       "      <td>1</td>\n",
       "      <td>...</td>\n",
       "      <td>3</td>\n",
       "      <td>1</td>\n",
       "      <td>4</td>\n",
       "      <td>1</td>\n",
       "      <td>5</td>\n",
       "      <td>0</td>\n",
       "      <td>0</td>\n",
       "      <td>0</td>\n",
       "      <td>1</td>\n",
       "      <td>4</td>\n",
       "    </tr>\n",
       "    <tr>\n",
       "      <td>7</td>\n",
       "      <td>2350</td>\n",
       "      <td>0</td>\n",
       "      <td>0</td>\n",
       "      <td>0</td>\n",
       "      <td>365</td>\n",
       "      <td>1</td>\n",
       "      <td>0</td>\n",
       "      <td>0</td>\n",
       "      <td>0</td>\n",
       "      <td>0</td>\n",
       "      <td>...</td>\n",
       "      <td>0</td>\n",
       "      <td>0</td>\n",
       "      <td>0</td>\n",
       "      <td>0</td>\n",
       "      <td>0</td>\n",
       "      <td>0</td>\n",
       "      <td>0</td>\n",
       "      <td>0</td>\n",
       "      <td>0</td>\n",
       "      <td>0</td>\n",
       "    </tr>\n",
       "    <tr>\n",
       "      <td>8</td>\n",
       "      <td>1904</td>\n",
       "      <td>0</td>\n",
       "      <td>0</td>\n",
       "      <td>1</td>\n",
       "      <td>365</td>\n",
       "      <td>4</td>\n",
       "      <td>1</td>\n",
       "      <td>6</td>\n",
       "      <td>1</td>\n",
       "      <td>8</td>\n",
       "      <td>...</td>\n",
       "      <td>14</td>\n",
       "      <td>1</td>\n",
       "      <td>34</td>\n",
       "      <td>1</td>\n",
       "      <td>41</td>\n",
       "      <td>0</td>\n",
       "      <td>1</td>\n",
       "      <td>0</td>\n",
       "      <td>0</td>\n",
       "      <td>0</td>\n",
       "    </tr>\n",
       "  </tbody>\n",
       "</table>\n",
       "<p>5 rows × 23 columns</p>\n",
       "</div>"
      ],
      "text/plain": [
       "   amount  is_invoice_sent  is_bundle  is_amo_lead  access_days  \\\n",
       "4    1886                0          0            0          365   \n",
       "5    1990                0          0            0          365   \n",
       "6    3480                0          0            0           59   \n",
       "7    2350                0          0            0          365   \n",
       "8    1904                0          0            1          365   \n",
       "\n",
       "   start_date_dow  d1_complete  d1_duration  d2_complete  d2_duration  ...  \\\n",
       "4               4            1            6            0            0  ...   \n",
       "5               6            1            1            0            0  ...   \n",
       "6               7            1            0            1            1  ...   \n",
       "7               1            0            0            0            0  ...   \n",
       "8               4            1            6            1            8  ...   \n",
       "\n",
       "   d4_duration  d5_complete  d5_duration  d6_complete  d6_duration  target  \\\n",
       "4            0            0            0            0            0       0   \n",
       "5            0            0            0            0            0       0   \n",
       "6            3            1            4            1            5       0   \n",
       "7            0            0            0            0            0       0   \n",
       "8           14            1           34            1           41       0   \n",
       "\n",
       "   start_selfie  dz1  sent_video  sent_messages_count  \n",
       "4             1    0           0                    1  \n",
       "5             1    0           0                    0  \n",
       "6             0    0           1                    4  \n",
       "7             0    0           0                    0  \n",
       "8             1    0           0                    0  \n",
       "\n",
       "[5 rows x 23 columns]"
      ]
     },
     "execution_count": 9,
     "metadata": {},
     "output_type": "execute_result"
    }
   ],
   "source": [
    "df_filtered.head()"
   ]
  },
  {
   "cell_type": "code",
   "execution_count": 10,
   "metadata": {
    "colab": {},
    "colab_type": "code",
    "id": "7z9Ldh4Cj9Dr"
   },
   "outputs": [],
   "source": [
    "from sklearn.model_selection import train_test_split\n",
    "from sklearn.preprocessing import StandardScaler"
   ]
  },
  {
   "cell_type": "code",
   "execution_count": 11,
   "metadata": {
    "colab": {
     "base_uri": "https://localhost:8080/",
     "height": 136
    },
    "colab_type": "code",
    "id": "2k_COWtcj9Fz",
    "outputId": "724a03b1-dfcf-48e7-a8f1-3fef7e34eccf"
   },
   "outputs": [
    {
     "data": {
      "text/plain": [
       "Index(['amount', 'is_invoice_sent', 'is_bundle', 'is_amo_lead', 'access_days',\n",
       "       'start_date_dow', 'd1_complete', 'd1_duration', 'd2_complete',\n",
       "       'd2_duration', 'd3_complete', 'd3_duration', 'd4_complete',\n",
       "       'd4_duration', 'd5_complete', 'd5_duration', 'd6_complete',\n",
       "       'd6_duration', 'target', 'start_selfie', 'dz1', 'sent_video',\n",
       "       'sent_messages_count'],\n",
       "      dtype='object')"
      ]
     },
     "execution_count": 11,
     "metadata": {},
     "output_type": "execute_result"
    }
   ],
   "source": [
    "df_filtered.columns"
   ]
  },
  {
   "cell_type": "code",
   "execution_count": 12,
   "metadata": {
    "colab": {},
    "colab_type": "code",
    "id": "ICxtOxc-qGHL"
   },
   "outputs": [],
   "source": [
    "X, y = df_filtered[['amount', 'is_invoice_sent', 'is_bundle', 'is_amo_lead', 'access_days',\n",
    "       'start_date_dow', 'd1_complete', 'd1_duration', 'd2_complete',\n",
    "       'd2_duration', 'd3_complete', 'd3_duration', 'd4_complete',\n",
    "       'd4_duration', 'd5_complete', 'd5_duration', 'd6_complete',\n",
    "       'd6_duration', 'start_selfie', 'dz1', 'sent_video',\n",
    "       'sent_messages_count']], df_filtered['target']"
   ]
  },
  {
   "cell_type": "code",
   "execution_count": 13,
   "metadata": {
    "colab": {},
    "colab_type": "code",
    "id": "zMst-_p-qbyZ"
   },
   "outputs": [],
   "source": [
    "X_train, X_test, y_train, y_test = train_test_split(X, y, test_size=0.2)"
   ]
  },
  {
   "cell_type": "code",
   "execution_count": 14,
   "metadata": {
    "colab": {},
    "colab_type": "code",
    "id": "g2akMA9RqoEo"
   },
   "outputs": [],
   "source": [
    "sc = StandardScaler()\n",
    "X_train = sc.fit_transform(X_train)\n",
    "X_test = sc.transform(X_test)"
   ]
  },
  {
   "cell_type": "code",
   "execution_count": 15,
   "metadata": {
    "colab": {},
    "colab_type": "code",
    "id": "HZBbBuGxqxZ1"
   },
   "outputs": [],
   "source": [
    "X_train = pd.DataFrame(X_train, columns=X.columns)\n",
    "X_test = pd.DataFrame(X_test, columns=X.columns)"
   ]
  },
  {
   "cell_type": "code",
   "execution_count": 16,
   "metadata": {
    "colab": {},
    "colab_type": "code",
    "id": "nzrV5dRIq-uI"
   },
   "outputs": [],
   "source": [
    "from sklearn.ensemble import RandomForestClassifier"
   ]
  },
  {
   "cell_type": "code",
   "execution_count": 17,
   "metadata": {
    "colab": {},
    "colab_type": "code",
    "id": "OL524zW5rSES"
   },
   "outputs": [],
   "source": [
    "clf = RandomForestClassifier(criterion='gini')"
   ]
  },
  {
   "cell_type": "code",
   "execution_count": 18,
   "metadata": {
    "colab": {
     "base_uri": "https://localhost:8080/",
     "height": 153
    },
    "colab_type": "code",
    "id": "GENp6yGzso9M",
    "outputId": "0b968e04-2071-4f36-b6bf-b5ac09d2b284"
   },
   "outputs": [
    {
     "name": "stderr",
     "output_type": "stream",
     "text": [
      "/opt/anaconda3/lib/python3.7/site-packages/sklearn/ensemble/forest.py:245: FutureWarning: The default value of n_estimators will change from 10 in version 0.20 to 100 in 0.22.\n",
      "  \"10 in version 0.20 to 100 in 0.22.\", FutureWarning)\n"
     ]
    },
    {
     "data": {
      "text/plain": [
       "RandomForestClassifier(bootstrap=True, class_weight=None, criterion='gini',\n",
       "                       max_depth=None, max_features='auto', max_leaf_nodes=None,\n",
       "                       min_impurity_decrease=0.0, min_impurity_split=None,\n",
       "                       min_samples_leaf=1, min_samples_split=2,\n",
       "                       min_weight_fraction_leaf=0.0, n_estimators=10,\n",
       "                       n_jobs=None, oob_score=False, random_state=None,\n",
       "                       verbose=0, warm_start=False)"
      ]
     },
     "execution_count": 18,
     "metadata": {},
     "output_type": "execute_result"
    }
   ],
   "source": [
    "clf.fit(X_train, y_train)"
   ]
  },
  {
   "cell_type": "code",
   "execution_count": 19,
   "metadata": {
    "colab": {},
    "colab_type": "code",
    "id": "34tYCSBjssSf"
   },
   "outputs": [],
   "source": [
    "from sklearn.metrics import accuracy_score, precision_score, recall_score, f1_score"
   ]
  },
  {
   "cell_type": "code",
   "execution_count": 20,
   "metadata": {
    "colab": {
     "base_uri": "https://localhost:8080/",
     "height": 34
    },
    "colab_type": "code",
    "id": "kwFbl5eHtGyS",
    "outputId": "357c9dfc-9b9c-41bb-d9e7-f672d5636980"
   },
   "outputs": [
    {
     "data": {
      "text/plain": [
       "0.8436321914440256"
      ]
     },
     "execution_count": 20,
     "metadata": {},
     "output_type": "execute_result"
    }
   ],
   "source": [
    "accuracy_score(y_test, clf.predict(X_test))"
   ]
  },
  {
   "cell_type": "code",
   "execution_count": 21,
   "metadata": {
    "colab": {
     "base_uri": "https://localhost:8080/",
     "height": 34
    },
    "colab_type": "code",
    "id": "CdCi7rbStM8P",
    "outputId": "0b0afed5-9405-4e32-8cb0-32f9b1f92645"
   },
   "outputs": [
    {
     "data": {
      "text/plain": [
       "0.6755670399081252"
      ]
     },
     "execution_count": 21,
     "metadata": {},
     "output_type": "execute_result"
    }
   ],
   "source": [
    "precision_score(y_test, clf.predict(X_test))"
   ]
  },
  {
   "cell_type": "code",
   "execution_count": 22,
   "metadata": {
    "colab": {
     "base_uri": "https://localhost:8080/",
     "height": 34
    },
    "colab_type": "code",
    "id": "FILnPct7tM-z",
    "outputId": "a0285266-7c00-415e-ddc5-32215036bbb8"
   },
   "outputs": [
    {
     "data": {
      "text/plain": [
       "0.5760097919216646"
      ]
     },
     "execution_count": 22,
     "metadata": {},
     "output_type": "execute_result"
    }
   ],
   "source": [
    "recall_score(y_test, clf.predict(X_test))"
   ]
  },
  {
   "cell_type": "code",
   "execution_count": 23,
   "metadata": {
    "colab": {
     "base_uri": "https://localhost:8080/",
     "height": 34
    },
    "colab_type": "code",
    "id": "kv2S7JOntNBu",
    "outputId": "d1072972-2b99-4e6f-a849-427f0492a0b5"
   },
   "outputs": [
    {
     "data": {
      "text/plain": [
       "0.6218287526427061"
      ]
     },
     "execution_count": 23,
     "metadata": {},
     "output_type": "execute_result"
    }
   ],
   "source": [
    "f1_score(y_test, clf.predict(X_test))"
   ]
  },
  {
   "cell_type": "markdown",
   "metadata": {
    "colab_type": "text",
    "id": "uMbCsb4qJbsQ"
   },
   "source": [
    "Update"
   ]
  },
  {
   "cell_type": "code",
   "execution_count": 24,
   "metadata": {
    "colab": {},
    "colab_type": "code",
    "id": "xlp0zmnitNEi"
   },
   "outputs": [],
   "source": [
    "from sklearn.linear_model import LogisticRegression"
   ]
  },
  {
   "cell_type": "code",
   "execution_count": 25,
   "metadata": {
    "colab": {},
    "colab_type": "code",
    "id": "0ooAhuDXtNHK"
   },
   "outputs": [],
   "source": [
    "logistic = LogisticRegression()"
   ]
  },
  {
   "cell_type": "code",
   "execution_count": 26,
   "metadata": {
    "colab": {
     "base_uri": "https://localhost:8080/",
     "height": 102
    },
    "colab_type": "code",
    "id": "WRM9oOk9KirD",
    "outputId": "96f1f2e0-8880-4615-d594-4702b77a35b8"
   },
   "outputs": [
    {
     "name": "stderr",
     "output_type": "stream",
     "text": [
      "/opt/anaconda3/lib/python3.7/site-packages/sklearn/linear_model/logistic.py:432: FutureWarning: Default solver will be changed to 'lbfgs' in 0.22. Specify a solver to silence this warning.\n",
      "  FutureWarning)\n"
     ]
    },
    {
     "data": {
      "text/plain": [
       "LogisticRegression(C=1.0, class_weight=None, dual=False, fit_intercept=True,\n",
       "                   intercept_scaling=1, l1_ratio=None, max_iter=100,\n",
       "                   multi_class='warn', n_jobs=None, penalty='l2',\n",
       "                   random_state=None, solver='warn', tol=0.0001, verbose=0,\n",
       "                   warm_start=False)"
      ]
     },
     "execution_count": 26,
     "metadata": {},
     "output_type": "execute_result"
    }
   ],
   "source": [
    "logistic.fit(X_train, y_train)"
   ]
  },
  {
   "cell_type": "code",
   "execution_count": 27,
   "metadata": {
    "colab": {
     "base_uri": "https://localhost:8080/",
     "height": 34
    },
    "colab_type": "code",
    "id": "KpZ-3R-fKuT4",
    "outputId": "200ba19f-3dac-4d6c-8bf1-8b32f832c925"
   },
   "outputs": [
    {
     "data": {
      "text/plain": [
       "0.8318308474020653"
      ]
     },
     "execution_count": 27,
     "metadata": {},
     "output_type": "execute_result"
    }
   ],
   "source": [
    "accuracy_score(y_test, logistic.predict(X_test))"
   ]
  },
  {
   "cell_type": "code",
   "execution_count": 28,
   "metadata": {
    "colab": {
     "base_uri": "https://localhost:8080/",
     "height": 34
    },
    "colab_type": "code",
    "id": "LRJRvZs4Kzmy",
    "outputId": "2cc46a38-4f22-45d5-fa4a-fe9ca5dfd5e2"
   },
   "outputs": [
    {
     "data": {
      "text/plain": [
       "0.6811802806765024"
      ]
     },
     "execution_count": 28,
     "metadata": {},
     "output_type": "execute_result"
    }
   ],
   "source": [
    "precision_score(y_test, logistic.predict(X_test))"
   ]
  },
  {
   "cell_type": "code",
   "execution_count": 29,
   "metadata": {
    "colab": {
     "base_uri": "https://localhost:8080/",
     "height": 34
    },
    "colab_type": "code",
    "id": "GR62bLT-KzqQ",
    "outputId": "0ac66248-7f3c-4b93-c807-13e2340242c2"
   },
   "outputs": [
    {
     "data": {
      "text/plain": [
       "0.46340269277845775"
      ]
     },
     "execution_count": 29,
     "metadata": {},
     "output_type": "execute_result"
    }
   ],
   "source": [
    "recall_score(y_test, logistic.predict(X_test))"
   ]
  },
  {
   "cell_type": "code",
   "execution_count": 30,
   "metadata": {
    "colab": {
     "base_uri": "https://localhost:8080/",
     "height": 34
    },
    "colab_type": "code",
    "id": "9XzFWo9MKzts",
    "outputId": "237dce18-9320-4f85-fdca-604a188cc6d1"
   },
   "outputs": [
    {
     "data": {
      "text/plain": [
       "0.5515734265734266"
      ]
     },
     "execution_count": 30,
     "metadata": {},
     "output_type": "execute_result"
    }
   ],
   "source": [
    "f1_score(y_test, logistic.predict(X_test))"
   ]
  },
  {
   "cell_type": "code",
   "execution_count": 31,
   "metadata": {
    "colab": {},
    "colab_type": "code",
    "id": "lwUvsvMPKzxB"
   },
   "outputs": [],
   "source": [
    "from sklearn.svm import  SVC"
   ]
  },
  {
   "cell_type": "code",
   "execution_count": 32,
   "metadata": {
    "colab": {
     "base_uri": "https://localhost:8080/",
     "height": 85
    },
    "colab_type": "code",
    "id": "M01Yr3imKz0r",
    "outputId": "cf41ef5c-496e-4224-ba0c-b2cde1e13830"
   },
   "outputs": [
    {
     "data": {
      "text/plain": [
       "SVC(C=1.0, cache_size=200, class_weight=None, coef0=0.0,\n",
       "    decision_function_shape='ovr', degree=3, gamma='auto_deprecated',\n",
       "    kernel='rbf', max_iter=-1, probability=False, random_state=None,\n",
       "    shrinking=True, tol=0.001, verbose=False)"
      ]
     },
     "execution_count": 32,
     "metadata": {},
     "output_type": "execute_result"
    }
   ],
   "source": [
    "svc = SVC()\n",
    "svc.fit(X_train, y_train)"
   ]
  },
  {
   "cell_type": "code",
   "execution_count": 33,
   "metadata": {
    "colab": {
     "base_uri": "https://localhost:8080/",
     "height": 34
    },
    "colab_type": "code",
    "id": "u0swge4hPdpf",
    "outputId": "54869bfc-c929-4b83-d6f2-3418603287b0"
   },
   "outputs": [
    {
     "data": {
      "text/plain": [
       "0.8498606785772824"
      ]
     },
     "execution_count": 33,
     "metadata": {},
     "output_type": "execute_result"
    }
   ],
   "source": [
    "accuracy_score(y_test, svc.predict(X_test))"
   ]
  },
  {
   "cell_type": "code",
   "execution_count": 34,
   "metadata": {
    "colab": {
     "base_uri": "https://localhost:8080/",
     "height": 34
    },
    "colab_type": "code",
    "id": "0YIQXZOXUU8w",
    "outputId": "6f8107b4-4969-47f8-b254-0b47096b4d2a"
   },
   "outputs": [
    {
     "data": {
      "text/plain": [
       "0.6918220946915351"
      ]
     },
     "execution_count": 34,
     "metadata": {},
     "output_type": "execute_result"
    }
   ],
   "source": [
    "precision_score(y_test, svc.predict(X_test))"
   ]
  },
  {
   "cell_type": "code",
   "execution_count": 35,
   "metadata": {
    "colab": {
     "base_uri": "https://localhost:8080/",
     "height": 34
    },
    "colab_type": "code",
    "id": "WhBOPVRLUVM8",
    "outputId": "793cd1b2-8cfe-4956-e6bb-79ca980b7bb4"
   },
   "outputs": [
    {
     "data": {
      "text/plain": [
       "0.5902080783353734"
      ]
     },
     "execution_count": 35,
     "metadata": {},
     "output_type": "execute_result"
    }
   ],
   "source": [
    "recall_score(y_test, svc.predict(X_test))"
   ]
  },
  {
   "cell_type": "code",
   "execution_count": 36,
   "metadata": {
    "colab": {
     "base_uri": "https://localhost:8080/",
     "height": 34
    },
    "colab_type": "code",
    "id": "2dAznOj2UVYF",
    "outputId": "6ffed2a1-1e15-4fbc-e46d-3cd32db85cf0"
   },
   "outputs": [
    {
     "data": {
      "text/plain": [
       "0.6369881109643328"
      ]
     },
     "execution_count": 36,
     "metadata": {},
     "output_type": "execute_result"
    }
   ],
   "source": [
    "f1_score(y_test, svc.predict(X_test))"
   ]
  },
  {
   "cell_type": "code",
   "execution_count": 37,
   "metadata": {
    "colab": {},
    "colab_type": "code",
    "id": "GuJcbkPVUVhG"
   },
   "outputs": [],
   "source": [
    "from sklearn.ensemble import GradientBoostingClassifier"
   ]
  },
  {
   "cell_type": "code",
   "execution_count": 38,
   "metadata": {
    "colab": {
     "base_uri": "https://localhost:8080/",
     "height": 187
    },
    "colab_type": "code",
    "id": "dN25mVwMUVqO",
    "outputId": "0df47b30-c97d-4c27-fd22-70b997c03f6d"
   },
   "outputs": [
    {
     "data": {
      "text/plain": [
       "GradientBoostingClassifier(criterion='friedman_mse', init=None,\n",
       "                           learning_rate=0.1, loss='deviance', max_depth=3,\n",
       "                           max_features=None, max_leaf_nodes=None,\n",
       "                           min_impurity_decrease=0.0, min_impurity_split=None,\n",
       "                           min_samples_leaf=1, min_samples_split=2,\n",
       "                           min_weight_fraction_leaf=0.0, n_estimators=100,\n",
       "                           n_iter_no_change=None, presort='auto',\n",
       "                           random_state=None, subsample=1.0, tol=0.0001,\n",
       "                           validation_fraction=0.1, verbose=0,\n",
       "                           warm_start=False)"
      ]
     },
     "execution_count": 38,
     "metadata": {},
     "output_type": "execute_result"
    }
   ],
   "source": [
    "gbc = GradientBoostingClassifier()\n",
    "gbc.fit(X_train, y_train)"
   ]
  },
  {
   "cell_type": "code",
   "execution_count": 39,
   "metadata": {
    "colab": {
     "base_uri": "https://localhost:8080/",
     "height": 34
    },
    "colab_type": "code",
    "id": "mljel25TWm78",
    "outputId": "fca664e2-4c80-43bf-8267-b69c857362d2"
   },
   "outputs": [
    {
     "data": {
      "text/plain": [
       "0.857400426159646"
      ]
     },
     "execution_count": 39,
     "metadata": {},
     "output_type": "execute_result"
    }
   ],
   "source": [
    "accuracy_score(y_test, gbc.predict(X_test))"
   ]
  },
  {
   "cell_type": "code",
   "execution_count": 40,
   "metadata": {
    "colab": {
     "base_uri": "https://localhost:8080/",
     "height": 34
    },
    "colab_type": "code",
    "id": "Fv2u2KqBYEfm",
    "outputId": "798edd91-607a-46ad-c572-f5b029cb5e09"
   },
   "outputs": [
    {
     "data": {
      "text/plain": [
       "0.7033360904328646"
      ]
     },
     "execution_count": 40,
     "metadata": {},
     "output_type": "execute_result"
    }
   ],
   "source": [
    "precision_score(y_test, gbc.predict(X_test))"
   ]
  },
  {
   "cell_type": "code",
   "execution_count": 41,
   "metadata": {
    "colab": {
     "base_uri": "https://localhost:8080/",
     "height": 34
    },
    "colab_type": "code",
    "id": "-CV9oEnkYEpl",
    "outputId": "20a4dc85-64e0-4e29-e11d-2a9b9ccd81a0"
   },
   "outputs": [
    {
     "data": {
      "text/plain": [
       "0.6244798041615667"
      ]
     },
     "execution_count": 41,
     "metadata": {},
     "output_type": "execute_result"
    }
   ],
   "source": [
    "recall_score(y_test, gbc.predict(X_test))"
   ]
  },
  {
   "cell_type": "code",
   "execution_count": 42,
   "metadata": {
    "colab": {
     "base_uri": "https://localhost:8080/",
     "height": 34
    },
    "colab_type": "code",
    "id": "bcvRnyOtYEzV",
    "outputId": "adb23db2-a539-4ede-a17b-4d218654f663"
   },
   "outputs": [
    {
     "data": {
      "text/plain": [
       "0.6615663900414939"
      ]
     },
     "execution_count": 42,
     "metadata": {},
     "output_type": "execute_result"
    }
   ],
   "source": [
    "f1_score(y_test, gbc.predict(X_test))"
   ]
  },
  {
   "cell_type": "markdown",
   "metadata": {
    "colab_type": "text",
    "id": "VF1oYs73c44t"
   },
   "source": [
    "Tuning hyper-parameters"
   ]
  },
  {
   "cell_type": "code",
   "execution_count": 43,
   "metadata": {
    "colab": {},
    "colab_type": "code",
    "id": "rTrI6VQBYE7W"
   },
   "outputs": [],
   "source": [
    "from sklearn.metrics import classification_report\n",
    "from sklearn.model_selection import GridSearchCV"
   ]
  },
  {
   "cell_type": "code",
   "execution_count": 44,
   "metadata": {
    "colab": {},
    "colab_type": "code",
    "id": "Z8f2g6-pYFDO"
   },
   "outputs": [],
   "source": [
    "tuned_parameters = [{'kernel': ['rbf'], 'gamma': [1e-3, 1e-4],\n",
    "                     'C': [1, 10, 100, 1000]},\n",
    "                    {'kernel': ['linear'], 'C': [1, 10, 100, 1000]}]"
   ]
  },
  {
   "cell_type": "code",
   "execution_count": 45,
   "metadata": {
    "colab": {},
    "colab_type": "code",
    "id": "yQKYlyQedTcK"
   },
   "outputs": [],
   "source": [
    "scores = ['precision', 'recall']"
   ]
  },
  {
   "cell_type": "code",
   "execution_count": 46,
   "metadata": {
    "colab": {
     "base_uri": "https://localhost:8080/",
     "height": 51
    },
    "colab_type": "code",
    "id": "zYL-_LiGdUhr",
    "outputId": "44f5a399-22ce-43b1-ebd0-7b36cedd87c8"
   },
   "outputs": [
    {
     "name": "stdout",
     "output_type": "stream",
     "text": [
      "# Tuning hyper-parameters for precision\n",
      "\n"
     ]
    },
    {
     "name": "stderr",
     "output_type": "stream",
     "text": [
      "/opt/anaconda3/lib/python3.7/site-packages/sklearn/model_selection/_split.py:1978: FutureWarning: The default value of cv will change from 3 to 5 in version 0.22. Specify it explicitly to silence this warning.\n",
      "  warnings.warn(CV_WARNING, FutureWarning)\n"
     ]
    },
    {
     "name": "stdout",
     "output_type": "stream",
     "text": [
      "Best parameters set found on development set:\n",
      "\n",
      "{'C': 1000, 'gamma': 0.001, 'kernel': 'rbf'}\n",
      "\n",
      "Grid scores on development set:\n",
      "\n",
      "0.766 (+/-0.007) for {'C': 1, 'gamma': 0.001, 'kernel': 'rbf'}\n",
      "0.754 (+/-0.014) for {'C': 1, 'gamma': 0.0001, 'kernel': 'rbf'}\n",
      "0.767 (+/-0.009) for {'C': 10, 'gamma': 0.001, 'kernel': 'rbf'}\n",
      "0.763 (+/-0.004) for {'C': 10, 'gamma': 0.0001, 'kernel': 'rbf'}\n",
      "0.775 (+/-0.004) for {'C': 100, 'gamma': 0.001, 'kernel': 'rbf'}\n",
      "0.767 (+/-0.008) for {'C': 100, 'gamma': 0.0001, 'kernel': 'rbf'}\n",
      "0.780 (+/-0.005) for {'C': 1000, 'gamma': 0.001, 'kernel': 'rbf'}\n",
      "0.767 (+/-0.009) for {'C': 1000, 'gamma': 0.0001, 'kernel': 'rbf'}\n",
      "0.765 (+/-0.008) for {'C': 1, 'kernel': 'linear'}\n",
      "0.765 (+/-0.008) for {'C': 10, 'kernel': 'linear'}\n",
      "0.765 (+/-0.008) for {'C': 100, 'kernel': 'linear'}\n",
      "0.765 (+/-0.008) for {'C': 1000, 'kernel': 'linear'}\n",
      "\n",
      "Detailed classification report:\n",
      "\n",
      "The model is trained on the full development set.\n",
      "The scores are computed on the full evaluation set.\n",
      "\n",
      "              precision    recall  f1-score   support\n",
      "\n",
      "           0       0.88      0.93      0.90     14218\n",
      "           1       0.69      0.55      0.61      4085\n",
      "\n",
      "    accuracy                           0.85     18303\n",
      "   macro avg       0.79      0.74      0.76     18303\n",
      "weighted avg       0.84      0.85      0.84     18303\n",
      "\n",
      "\n",
      "# Tuning hyper-parameters for recall\n",
      "\n"
     ]
    },
    {
     "name": "stderr",
     "output_type": "stream",
     "text": [
      "/opt/anaconda3/lib/python3.7/site-packages/sklearn/model_selection/_split.py:1978: FutureWarning: The default value of cv will change from 3 to 5 in version 0.22. Specify it explicitly to silence this warning.\n",
      "  warnings.warn(CV_WARNING, FutureWarning)\n"
     ]
    },
    {
     "name": "stdout",
     "output_type": "stream",
     "text": [
      "Best parameters set found on development set:\n",
      "\n",
      "{'C': 1000, 'gamma': 0.001, 'kernel': 'rbf'}\n",
      "\n",
      "Grid scores on development set:\n",
      "\n",
      "0.683 (+/-0.006) for {'C': 1, 'gamma': 0.001, 'kernel': 'rbf'}\n",
      "0.562 (+/-0.001) for {'C': 1, 'gamma': 0.0001, 'kernel': 'rbf'}\n",
      "0.706 (+/-0.010) for {'C': 10, 'gamma': 0.001, 'kernel': 'rbf'}\n",
      "0.671 (+/-0.003) for {'C': 10, 'gamma': 0.0001, 'kernel': 'rbf'}\n",
      "0.729 (+/-0.008) for {'C': 100, 'gamma': 0.001, 'kernel': 'rbf'}\n",
      "0.701 (+/-0.009) for {'C': 100, 'gamma': 0.0001, 'kernel': 'rbf'}\n",
      "0.737 (+/-0.006) for {'C': 1000, 'gamma': 0.001, 'kernel': 'rbf'}\n",
      "0.706 (+/-0.011) for {'C': 1000, 'gamma': 0.0001, 'kernel': 'rbf'}\n",
      "0.700 (+/-0.010) for {'C': 1, 'kernel': 'linear'}\n",
      "0.700 (+/-0.010) for {'C': 10, 'kernel': 'linear'}\n",
      "0.700 (+/-0.010) for {'C': 100, 'kernel': 'linear'}\n",
      "0.702 (+/-0.009) for {'C': 1000, 'kernel': 'linear'}\n",
      "\n",
      "Detailed classification report:\n",
      "\n",
      "The model is trained on the full development set.\n",
      "The scores are computed on the full evaluation set.\n",
      "\n",
      "              precision    recall  f1-score   support\n",
      "\n",
      "           0       0.88      0.93      0.90     14218\n",
      "           1       0.69      0.55      0.61      4085\n",
      "\n",
      "    accuracy                           0.85     18303\n",
      "   macro avg       0.79      0.74      0.76     18303\n",
      "weighted avg       0.84      0.85      0.84     18303\n",
      "\n",
      "\n"
     ]
    }
   ],
   "source": [
    "for score in scores:\n",
    "    print(\"# Tuning hyper-parameters for %s\" % score)\n",
    "    print()\n",
    "\n",
    "    clf = GridSearchCV(\n",
    "        SVC(), tuned_parameters, scoring='%s_macro' % score\n",
    "    )\n",
    "    clf.fit(X_train, y_train)\n",
    "\n",
    "    print(\"Best parameters set found on development set:\")\n",
    "    print()\n",
    "    print(clf.best_params_)\n",
    "    print()\n",
    "    print(\"Grid scores on development set:\")\n",
    "    print()\n",
    "    means = clf.cv_results_['mean_test_score']\n",
    "    stds = clf.cv_results_['std_test_score']\n",
    "    for mean, std, params in zip(means, stds, clf.cv_results_['params']):\n",
    "        print(\"%0.3f (+/-%0.03f) for %r\"\n",
    "              % (mean, std * 2, params))\n",
    "    print()\n",
    "\n",
    "    print(\"Detailed classification report:\")\n",
    "    print()\n",
    "    print(\"The model is trained on the full development set.\")\n",
    "    print(\"The scores are computed on the full evaluation set.\")\n",
    "    print()\n",
    "    y_true, y_pred = y_test, clf.predict(X_test)\n",
    "    print(classification_report(y_true, y_pred))\n",
    "    print()"
   ]
  },
  {
   "cell_type": "code",
   "execution_count": 0,
   "metadata": {
    "colab": {},
    "colab_type": "code",
    "id": "OZebCYGKdyFh"
   },
   "outputs": [],
   "source": []
  }
 ],
 "metadata": {
  "colab": {
   "name": "netology_sk_final.ipynb",
   "provenance": []
  },
  "kernelspec": {
   "display_name": "Python 3",
   "language": "python",
   "name": "python3"
  },
  "language_info": {
   "codemirror_mode": {
    "name": "ipython",
    "version": 3
   },
   "file_extension": ".py",
   "mimetype": "text/x-python",
   "name": "python",
   "nbconvert_exporter": "python",
   "pygments_lexer": "ipython3",
   "version": "3.7.4"
  }
 },
 "nbformat": 4,
 "nbformat_minor": 1
}
