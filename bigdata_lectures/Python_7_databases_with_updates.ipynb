{
 "cells": [
  {
   "cell_type": "markdown",
   "metadata": {},
   "source": [
    "## Python для работы с базами данных"
   ]
  },
  {
   "cell_type": "markdown",
   "metadata": {},
   "source": [
    "Изменения в Vagrantfile:\n",
    "1. Перед запуском виртуалки раскомментировать строку 50\n",
    "```bash\n",
    "config.vm.network \"forwarded_port\", guest: 5432, host: 5432, host_ip: \"127.0.0.1\"\n",
    "```\n",
    "\n",
    "2. На виртуалке меняем в конфигурационном файле postgresql метод аутентификации (в редакторе nano после внесения изменений нажимаем Ctrl+x и на вопрос отвечаем y + enter):\n",
    "```bash\n",
    "sudo nano /etc/postgresql/10/main/pg_hba.conf\n",
    "```\n",
    "\n",
    "Находим строчку (в конце файла)\n",
    "```bash\n",
    "# Database administrative login by Unix domain socket\n",
    "local   all             postgres                                peer\n",
    "```\n",
    "\n",
    "меняем peer на md5\n",
    "```bash\n",
    "local   all             postgres                                md5\n",
    "```\n",
    "\n",
    "и разрешаем подключения извне (меняем 127.0.0.1/32 на 0.0.0.0/0)\n",
    "```bash\n",
    "# IPv4 local connections:\n",
    "host    all             all             0.0.0.0/0            md5\n",
    "```\n",
    "\n",
    "В файле конфигураций разрешаем слушать все IP-адреса\n",
    "```bash\n",
    "sudo nano /etc/postgresql/10/main/postgresql.conf\n",
    "# находим строчку с listen_addresses и меняем значение на\n",
    "listen_addresses = '*'\n",
    "```\n",
    "\n",
    "В конце перезапускаем postgresql\n",
    "```bash\n",
    "sudo service postgresql restart\n",
    "```\n",
    "\n",
    "3. Заходим под пользователем postgres и добавляем в базу пользователя с правами на чтение\n",
    "```bash\n",
    "sudo su -l postgres\n",
    "psql -U postgres -c \"CREATE ROLE readaccess;\"\n",
    "psql -U postgres -c \"GRANT SELECT ON ALL TABLES IN SCHEMA public TO readaccess;\"\n",
    "psql -U postgres -c \"ALTER DEFAULT PRIVILEGES IN SCHEMA public GRANT SELECT ON TABLES TO readaccess;\"\n",
    "psql -U postgres -c \"CREATE USER ds WITH PASSWORD 'ds';\"\n",
    "psql -U postgres -c \"GRANT readaccess TO ds;\"\n",
    "```"
   ]
  },
  {
   "cell_type": "code",
   "execution_count": 1,
   "metadata": {},
   "outputs": [],
   "source": [
    "import psycopg2"
   ]
  },
  {
   "cell_type": "code",
   "execution_count": 2,
   "metadata": {},
   "outputs": [],
   "source": [
    "# инициализируем соединение с базой данных\n",
    "conn = psycopg2.connect(\"dbname='anyclass_prod' user='analytic' host='10.10.3.87' password='I59vPF59sbc6o9Lly'\")"
   ]
  },
  {
   "cell_type": "code",
   "execution_count": 3,
   "metadata": {},
   "outputs": [],
   "source": [
    "cur = conn.cursor()"
   ]
  },
  {
   "cell_type": "code",
   "execution_count": null,
   "metadata": {},
   "outputs": [],
   "source": [
    "# для больших запросов\n",
    "cur.itersize = 10000"
   ]
  },
  {
   "cell_type": "code",
   "execution_count": 4,
   "metadata": {},
   "outputs": [],
   "source": [
    "# отправляем запрос\n",
    "cur.execute('SELECT COUNT(*) FROM project_1.\"order\";')"
   ]
  },
  {
   "cell_type": "code",
   "execution_count": 5,
   "metadata": {},
   "outputs": [
    {
     "data": {
      "text/plain": [
       "[(156064,)]"
      ]
     },
     "execution_count": 5,
     "metadata": {},
     "output_type": "execute_result"
    }
   ],
   "source": [
    "# получаем все строки ответа\n",
    "cur.fetchall()"
   ]
  },
  {
   "cell_type": "code",
   "execution_count": 6,
   "metadata": {},
   "outputs": [],
   "source": [
    "cur.execute('SELECT * FROM ratings order by userid limit 10;')"
   ]
  },
  {
   "cell_type": "code",
   "execution_count": 7,
   "metadata": {
    "scrolled": true
   },
   "outputs": [
    {
     "name": "stdout",
     "output_type": "stream",
     "text": [
      "(1, 147, 4.5, 1425942435)\n",
      "(1, 858, 5.0, 1425941523)\n",
      "(1, 1221, 5.0, 1425941546)\n",
      "(1, 1246, 5.0, 1425941556)\n",
      "(1, 1968, 4.0, 1425942148)\n",
      "(1, 2762, 4.5, 1425941300)\n",
      "(1, 2918, 5.0, 1425941593)\n",
      "(1, 2959, 4.0, 1425941601)\n",
      "(1, 4226, 4.0, 1425942228)\n",
      "(1, 110, 1.0, 1425941529)\n"
     ]
    }
   ],
   "source": [
    "for row in cur:\n",
    "    print(row)"
   ]
  },
  {
   "cell_type": "markdown",
   "metadata": {},
   "source": [
    "### Немного про запросы в MySQL"
   ]
  },
  {
   "cell_type": "code",
   "execution_count": null,
   "metadata": {},
   "outputs": [],
   "source": [
    "# для тяжелых запросов к MySQL можно использовать SSDictCursor\n",
    "import pymysql\n",
    "\n",
    "connection = pymysql.connect(\n",
    "    host = 'dbhost',\n",
    "    port = 3306,\n",
    "    user = 'dbuser',\n",
    "    password = 'dbpass',\n",
    "    db = 'db',\n",
    "    cursorclass = pymysql.cursors.SSDictCursor\n",
    ")\n",
    "\n",
    "with connection.cursor() as cursor:\n",
    "    cursor.execute(sqlQuery)\n",
    "\n",
    "    for line in cursor:\n",
    "        print(line)"
   ]
  },
  {
   "cell_type": "markdown",
   "metadata": {},
   "source": [
    "### Базы данных и pandas"
   ]
  },
  {
   "cell_type": "code",
   "execution_count": 8,
   "metadata": {},
   "outputs": [],
   "source": [
    "import pandas as pd"
   ]
  },
  {
   "cell_type": "code",
   "execution_count": 9,
   "metadata": {},
   "outputs": [
    {
     "data": {
      "text/html": [
       "<div>\n",
       "<style scoped>\n",
       "    .dataframe tbody tr th:only-of-type {\n",
       "        vertical-align: middle;\n",
       "    }\n",
       "\n",
       "    .dataframe tbody tr th {\n",
       "        vertical-align: top;\n",
       "    }\n",
       "\n",
       "    .dataframe thead th {\n",
       "        text-align: right;\n",
       "    }\n",
       "</style>\n",
       "<table border=\"1\" class=\"dataframe\">\n",
       "  <thead>\n",
       "    <tr style=\"text-align: right;\">\n",
       "      <th></th>\n",
       "      <th>userid</th>\n",
       "      <th>movieid</th>\n",
       "      <th>rating</th>\n",
       "      <th>timestamp</th>\n",
       "    </tr>\n",
       "  </thead>\n",
       "  <tbody>\n",
       "    <tr>\n",
       "      <th>0</th>\n",
       "      <td>1</td>\n",
       "      <td>110</td>\n",
       "      <td>1.0</td>\n",
       "      <td>1425941529</td>\n",
       "    </tr>\n",
       "    <tr>\n",
       "      <th>1</th>\n",
       "      <td>1</td>\n",
       "      <td>147</td>\n",
       "      <td>4.5</td>\n",
       "      <td>1425942435</td>\n",
       "    </tr>\n",
       "    <tr>\n",
       "      <th>2</th>\n",
       "      <td>1</td>\n",
       "      <td>858</td>\n",
       "      <td>5.0</td>\n",
       "      <td>1425941523</td>\n",
       "    </tr>\n",
       "    <tr>\n",
       "      <th>3</th>\n",
       "      <td>1</td>\n",
       "      <td>1221</td>\n",
       "      <td>5.0</td>\n",
       "      <td>1425941546</td>\n",
       "    </tr>\n",
       "    <tr>\n",
       "      <th>4</th>\n",
       "      <td>1</td>\n",
       "      <td>1246</td>\n",
       "      <td>5.0</td>\n",
       "      <td>1425941556</td>\n",
       "    </tr>\n",
       "    <tr>\n",
       "      <th>5</th>\n",
       "      <td>1</td>\n",
       "      <td>1968</td>\n",
       "      <td>4.0</td>\n",
       "      <td>1425942148</td>\n",
       "    </tr>\n",
       "    <tr>\n",
       "      <th>6</th>\n",
       "      <td>1</td>\n",
       "      <td>2762</td>\n",
       "      <td>4.5</td>\n",
       "      <td>1425941300</td>\n",
       "    </tr>\n",
       "    <tr>\n",
       "      <th>7</th>\n",
       "      <td>1</td>\n",
       "      <td>2918</td>\n",
       "      <td>5.0</td>\n",
       "      <td>1425941593</td>\n",
       "    </tr>\n",
       "    <tr>\n",
       "      <th>8</th>\n",
       "      <td>1</td>\n",
       "      <td>2959</td>\n",
       "      <td>4.0</td>\n",
       "      <td>1425941601</td>\n",
       "    </tr>\n",
       "    <tr>\n",
       "      <th>9</th>\n",
       "      <td>1</td>\n",
       "      <td>4226</td>\n",
       "      <td>4.0</td>\n",
       "      <td>1425942228</td>\n",
       "    </tr>\n",
       "  </tbody>\n",
       "</table>\n",
       "</div>"
      ],
      "text/plain": [
       "   userid  movieid  rating   timestamp\n",
       "0       1      110     1.0  1425941529\n",
       "1       1      147     4.5  1425942435\n",
       "2       1      858     5.0  1425941523\n",
       "3       1     1221     5.0  1425941546\n",
       "4       1     1246     5.0  1425941556\n",
       "5       1     1968     4.0  1425942148\n",
       "6       1     2762     4.5  1425941300\n",
       "7       1     2918     5.0  1425941593\n",
       "8       1     2959     4.0  1425941601\n",
       "9       1     4226     4.0  1425942228"
      ]
     },
     "execution_count": 9,
     "metadata": {},
     "output_type": "execute_result"
    }
   ],
   "source": [
    "data = pd.read_sql('SELECT * FROM ratings limit 10;', conn)\n",
    "data"
   ]
  },
  {
   "cell_type": "markdown",
   "metadata": {},
   "source": [
    "## Персональные данные"
   ]
  },
  {
   "cell_type": "code",
   "execution_count": 10,
   "metadata": {},
   "outputs": [],
   "source": [
    "# плохой вариант для аналитики\n",
    "database_rows = [\n",
    "    {'name': 'Наталья', 'email': 'nata123@mail.ru', 'ip': '127.0.0.1'},\n",
    "    {'name': 'Михаил', 'email': 'mikha@yandex.ru', 'ip': '127.0.0.1'},\n",
    "]"
   ]
  },
  {
   "cell_type": "code",
   "execution_count": 11,
   "metadata": {},
   "outputs": [],
   "source": [
    "import hashlib"
   ]
  },
  {
   "cell_type": "code",
   "execution_count": 14,
   "metadata": {},
   "outputs": [
    {
     "data": {
      "text/plain": [
       "{'DSA',\n",
       " 'DSA-SHA',\n",
       " 'MD4',\n",
       " 'MD5',\n",
       " 'MDC2',\n",
       " 'RIPEMD160',\n",
       " 'SHA',\n",
       " 'SHA1',\n",
       " 'SHA224',\n",
       " 'SHA256',\n",
       " 'SHA384',\n",
       " 'SHA512',\n",
       " 'blake2b',\n",
       " 'blake2s',\n",
       " 'dsaEncryption',\n",
       " 'dsaWithSHA',\n",
       " 'ecdsa-with-SHA1',\n",
       " 'md4',\n",
       " 'md5',\n",
       " 'mdc2',\n",
       " 'ripemd160',\n",
       " 'sha',\n",
       " 'sha1',\n",
       " 'sha224',\n",
       " 'sha256',\n",
       " 'sha384',\n",
       " 'sha3_224',\n",
       " 'sha3_256',\n",
       " 'sha3_384',\n",
       " 'sha3_512',\n",
       " 'sha512',\n",
       " 'shake_128',\n",
       " 'shake_256',\n",
       " 'whirlpool'}"
      ]
     },
     "execution_count": 14,
     "metadata": {},
     "output_type": "execute_result"
    }
   ],
   "source": [
    "hashlib.algorithms_available"
   ]
  },
  {
   "cell_type": "code",
   "execution_count": 12,
   "metadata": {},
   "outputs": [],
   "source": [
    "email = 'username@yandex.ru'"
   ]
  },
  {
   "cell_type": "code",
   "execution_count": 13,
   "metadata": {},
   "outputs": [
    {
     "data": {
      "text/plain": [
       "'2388d885ffef200977eefc0a585a578bc30e00cc0b1cde0678ed49ef04659d51'"
      ]
     },
     "execution_count": 13,
     "metadata": {},
     "output_type": "execute_result"
    }
   ],
   "source": [
    "m = hashlib.sha256()\n",
    "\n",
    "m.update(bytes(email, 'utf-8'))\n",
    "m.hexdigest()"
   ]
  },
  {
   "cell_type": "code",
   "execution_count": 30,
   "metadata": {},
   "outputs": [
    {
     "data": {
      "text/plain": [
       "'45c7a3ed1571a6251b4909ae982af6a1066ad94681788e63e7ac2679b097c5a7'"
      ]
     },
     "execution_count": 30,
     "metadata": {},
     "output_type": "execute_result"
    }
   ],
   "source": [
    "email = 'username@yandex.ru.'\n",
    "m = hashlib.sha256()\n",
    "\n",
    "m.update(bytes(email, 'utf-8'))\n",
    "m.hexdigest()"
   ]
  },
  {
   "cell_type": "markdown",
   "metadata": {},
   "source": [
    "### Передача сообщений\n",
    "Проблема [Man in the middle](https://ru.wikipedia.org/wiki/%D0%90%D1%82%D0%B0%D0%BA%D0%B0_%D0%BF%D0%BE%D1%81%D1%80%D0%B5%D0%B4%D0%BD%D0%B8%D0%BA%D0%B0)"
   ]
  },
  {
   "cell_type": "code",
   "execution_count": null,
   "metadata": {},
   "outputs": [],
   "source": [
    "message = 'Согласуете отпуск на следующей неделе?'"
   ]
  },
  {
   "cell_type": "code",
   "execution_count": 15,
   "metadata": {},
   "outputs": [],
   "source": [
    "correct_answer = 'Да'\n",
    "corrupted_answer = 'Нет'"
   ]
  },
  {
   "cell_type": "markdown",
   "metadata": {},
   "source": [
    "Заранее договоримся с руководителем добавлять в конец каждого сообщения. Кроме вас и руководителя никто не должен знать это значение."
   ]
  },
  {
   "cell_type": "code",
   "execution_count": 16,
   "metadata": {},
   "outputs": [],
   "source": [
    "seed = '123'"
   ]
  },
  {
   "cell_type": "markdown",
   "metadata": {},
   "source": [
    "К каждому сообщению добавляем seed и считаем хэш:"
   ]
  },
  {
   "cell_type": "code",
   "execution_count": 17,
   "metadata": {},
   "outputs": [
    {
     "data": {
      "text/plain": [
       "'Да123'"
      ]
     },
     "execution_count": 17,
     "metadata": {},
     "output_type": "execute_result"
    }
   ],
   "source": [
    "sending_message = correct_answer + seed\n",
    "sending_message"
   ]
  },
  {
   "cell_type": "markdown",
   "metadata": {},
   "source": [
    "Вместе с message передаем хэш"
   ]
  },
  {
   "cell_type": "code",
   "execution_count": 18,
   "metadata": {},
   "outputs": [
    {
     "data": {
      "text/plain": [
       "'cc26051b81b3776c74ba22f0f8a903a0c2dec1ce3385cc40b774e0a0643ab177'"
      ]
     },
     "execution_count": 18,
     "metadata": {},
     "output_type": "execute_result"
    }
   ],
   "source": [
    "m = hashlib.sha256()\n",
    "\n",
    "m.update(bytes(sending_message, 'utf-8'))\n",
    "m.hexdigest()"
   ]
  },
  {
   "cell_type": "markdown",
   "metadata": {},
   "source": [
    "Если злоумышленник перехватит и изменит сообщение, то без seed он не сможет посчитать нужное значение хэша. Когда вы получаете сообщение, то добавляете к нему seed, считаете хэш и сравниваете с тем, что приложен к сообщению:"
   ]
  },
  {
   "cell_type": "code",
   "execution_count": 19,
   "metadata": {},
   "outputs": [],
   "source": [
    "received_message = 'Нет'"
   ]
  },
  {
   "cell_type": "code",
   "execution_count": 20,
   "metadata": {
    "scrolled": true
   },
   "outputs": [
    {
     "data": {
      "text/plain": [
       "'43e5ab70f691a6a6391be1da21bc18c31c04892ceb19fde88e44ad50c5ec9052'"
      ]
     },
     "execution_count": 20,
     "metadata": {},
     "output_type": "execute_result"
    }
   ],
   "source": [
    "m = hashlib.sha256()\n",
    "\n",
    "m.update(bytes(received_message, 'utf-8'))\n",
    "m.hexdigest()"
   ]
  },
  {
   "cell_type": "markdown",
   "metadata": {},
   "source": [
    "Хэш получился другой, значит сообщение изменено!\n",
    "\n",
    "В случае неизмененного сообщения хэши совпадут:"
   ]
  },
  {
   "cell_type": "code",
   "execution_count": 21,
   "metadata": {},
   "outputs": [
    {
     "data": {
      "text/plain": [
       "'cc26051b81b3776c74ba22f0f8a903a0c2dec1ce3385cc40b774e0a0643ab177'"
      ]
     },
     "execution_count": 21,
     "metadata": {},
     "output_type": "execute_result"
    }
   ],
   "source": [
    "m = hashlib.sha256()\n",
    "\n",
    "m.update(bytes(correct_answer + seed, 'utf-8'))\n",
    "m.hexdigest()"
   ]
  },
  {
   "cell_type": "markdown",
   "metadata": {},
   "source": [
    "### Упражнение\n",
    "Зашифруйте персональные данные в списке database_rows"
   ]
  },
  {
   "cell_type": "code",
   "execution_count": 35,
   "metadata": {},
   "outputs": [],
   "source": [
    "database_rows = [\n",
    "    {'name': 'Наталья', 'email': 'nata123@mail.ru', 'ip': '127.0.0.1'},\n",
    "    {'name': 'Михаил', 'email': 'mikha@yandex.ru', 'ip': '127.0.0.1'},\n",
    "    {'name': 'Наталья', 'email': 'nata123@mail.ru', 'ip': '127.0.0.1'},\n",
    "]"
   ]
  },
  {
   "cell_type": "code",
   "execution_count": 36,
   "metadata": {},
   "outputs": [
    {
     "name": "stdout",
     "output_type": "stream",
     "text": [
      "{'name': 'bfed49f40befead4597ffbbae875e6a7c8cb35b682532a27189a5d18224faa7f'}\n",
      "{'name': 'b7f9dd381133be6bd44bf8efae68ca29ee4404633f7f192bca5b69149b14a587'}\n",
      "{'name': 'bfed49f40befead4597ffbbae875e6a7c8cb35b682532a27189a5d18224faa7f'}\n"
     ]
    }
   ],
   "source": [
    "db_sha = {}\n",
    "\n",
    "for rec in database_rows:\n",
    "    m = hashlib.sha256()\n",
    "\n",
    "    m.update(bytes(rec['name'] + 'whlfeq', 'utf-8'))\n",
    "    db_sha['name'] = m.hexdigest()\n",
    "    \n",
    "    print(db_sha)"
   ]
  },
  {
   "cell_type": "code",
   "execution_count": null,
   "metadata": {},
   "outputs": [],
   "source": []
  },
  {
   "cell_type": "code",
   "execution_count": null,
   "metadata": {},
   "outputs": [],
   "source": []
  },
  {
   "cell_type": "code",
   "execution_count": null,
   "metadata": {},
   "outputs": [],
   "source": []
  },
  {
   "cell_type": "code",
   "execution_count": null,
   "metadata": {},
   "outputs": [],
   "source": []
  }
 ],
 "metadata": {
  "kernelspec": {
   "display_name": "Python 3",
   "language": "python",
   "name": "python3"
  },
  "language_info": {
   "codemirror_mode": {
    "name": "ipython",
    "version": 3
   },
   "file_extension": ".py",
   "mimetype": "text/x-python",
   "name": "python",
   "nbconvert_exporter": "python",
   "pygments_lexer": "ipython3",
   "version": "3.7.4"
  }
 },
 "nbformat": 4,
 "nbformat_minor": 2
}
