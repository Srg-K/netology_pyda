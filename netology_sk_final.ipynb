{
  "nbformat": 4,
  "nbformat_minor": 0,
  "metadata": {
    "colab": {
      "name": "netology_sk_final.ipynb",
      "provenance": [],
      "authorship_tag": "ABX9TyPlI51N5pA7AM8YG6KJC5rg",
      "include_colab_link": true
    },
    "kernelspec": {
      "name": "python3",
      "display_name": "Python 3"
    }
  },
  "cells": [
    {
      "cell_type": "markdown",
      "metadata": {
        "id": "view-in-github",
        "colab_type": "text"
      },
      "source": [
        "<a href=\"https://colab.research.google.com/github/Srg-K/netology_pyda/blob/master/netology_sk_final.ipynb\" target=\"_parent\"><img src=\"https://colab.research.google.com/assets/colab-badge.svg\" alt=\"Open In Colab\"/></a>"
      ]
    },
    {
      "cell_type": "code",
      "metadata": {
        "id": "NVcKlsk2ETuP",
        "colab_type": "code",
        "colab": {}
      },
      "source": [
        "import pandas as pd"
      ],
      "execution_count": 0,
      "outputs": []
    },
    {
      "cell_type": "code",
      "metadata": {
        "id": "BoGFm-u7FG__",
        "colab_type": "code",
        "colab": {}
      },
      "source": [
        "df = pd.read_csv('netology_dataset.csv')"
      ],
      "execution_count": 0,
      "outputs": []
    },
    {
      "cell_type": "code",
      "metadata": {
        "id": "TjSrsgrgFThT",
        "colab_type": "code",
        "colab": {
          "base_uri": "https://localhost:8080/",
          "height": 1000
        },
        "outputId": "b5d3ddac-eeb6-44a2-8078-d185ab48bb8f"
      },
      "source": [
        "df.info()"
      ],
      "execution_count": 8,
      "outputs": [
        {
          "output_type": "stream",
          "text": [
            "<class 'pandas.core.frame.DataFrame'>\n",
            "RangeIndex: 92374 entries, 0 to 92373\n",
            "Data columns (total 53 columns):\n",
            " #   Column               Non-Null Count  Dtype  \n",
            "---  ------               --------------  -----  \n",
            " 0   user_id              92374 non-null  int64  \n",
            " 1   amount               92374 non-null  int64  \n",
            " 2   is_invoice_sent      92374 non-null  int64  \n",
            " 3   is_bundle            92374 non-null  int64  \n",
            " 4   is_amo_lead          92374 non-null  int64  \n",
            " 5   access_days          91514 non-null  float64\n",
            " 6   start_date_dow       91514 non-null  float64\n",
            " 7   d1_complete          92374 non-null  int64  \n",
            " 8   d1_duration          92374 non-null  int64  \n",
            " 9   d2_complete          92374 non-null  int64  \n",
            " 10  d2_duration          92374 non-null  int64  \n",
            " 11  d3_complete          92374 non-null  int64  \n",
            " 12  d3_duration          92374 non-null  int64  \n",
            " 13  d4_complete          92374 non-null  int64  \n",
            " 14  d4_duration          92374 non-null  int64  \n",
            " 15  d5_complete          92374 non-null  int64  \n",
            " 16  d5_duration          92374 non-null  int64  \n",
            " 17  d6_complete          92374 non-null  int64  \n",
            " 18  d6_duration          92374 non-null  int64  \n",
            " 19  d7_complete          92374 non-null  int64  \n",
            " 20  d7_duration          92374 non-null  int64  \n",
            " 21  d8_complete          92374 non-null  int64  \n",
            " 22  d8_duration          92374 non-null  int64  \n",
            " 23  d9_complete          92374 non-null  int64  \n",
            " 24  d9_duration          92374 non-null  int64  \n",
            " 25  d10_complete         92374 non-null  int64  \n",
            " 26  d10_duration         92374 non-null  int64  \n",
            " 27  d11_complete         92374 non-null  int64  \n",
            " 28  d11_duration         92374 non-null  int64  \n",
            " 29  d12_complete         92374 non-null  int64  \n",
            " 30  d12_duration         92374 non-null  int64  \n",
            " 31  d13_complete         92374 non-null  int64  \n",
            " 32  d13_duration         92374 non-null  int64  \n",
            " 33  d14_complete         92374 non-null  int64  \n",
            " 34  d14_duration         92374 non-null  int64  \n",
            " 35  d15_complete         92374 non-null  int64  \n",
            " 36  d15_duration         92374 non-null  int64  \n",
            " 37  d16_complete         92374 non-null  int64  \n",
            " 38  d16_duration         92374 non-null  int64  \n",
            " 39  d17_complete         92374 non-null  int64  \n",
            " 40  d17_duration         92374 non-null  int64  \n",
            " 41  d18_complete         92374 non-null  int64  \n",
            " 42  d18_duration         92374 non-null  int64  \n",
            " 43  d19_complete         92374 non-null  int64  \n",
            " 44  d19_duration         92374 non-null  int64  \n",
            " 45  d20_complete         92374 non-null  int64  \n",
            " 46  d20_duration         92374 non-null  int64  \n",
            " 47  start_selfie         92374 non-null  int64  \n",
            " 48  dz1                  92374 non-null  int64  \n",
            " 49  dz2                  92374 non-null  int64  \n",
            " 50  final_selfie         92374 non-null  int64  \n",
            " 51  sent_video           92374 non-null  int64  \n",
            " 52  sent_messages_count  67236 non-null  float64\n",
            "dtypes: float64(3), int64(50)\n",
            "memory usage: 37.4 MB\n"
          ],
          "name": "stdout"
        }
      ]
    },
    {
      "cell_type": "code",
      "metadata": {
        "id": "umsHpRA6hmCy",
        "colab_type": "code",
        "colab": {}
      },
      "source": [
        "df.dropna(subset = [\"access_days\"], inplace=True)"
      ],
      "execution_count": 0,
      "outputs": []
    },
    {
      "cell_type": "code",
      "metadata": {
        "id": "c7BZTmi-i48e",
        "colab_type": "code",
        "colab": {}
      },
      "source": [
        "df['sent_messages_count'].fillna(0, inplace=True)"
      ],
      "execution_count": 0,
      "outputs": []
    },
    {
      "cell_type": "code",
      "metadata": {
        "id": "Y27QjXeDj8PU",
        "colab_type": "code",
        "colab": {}
      },
      "source": [
        "df['access_days'], df['start_date_dow'], df['sent_messages_count'] = df['access_days'].astype(int), df['start_date_dow'].astype(int), df['sent_messages_count'].astype(int)"
      ],
      "execution_count": 0,
      "outputs": []
    },
    {
      "cell_type": "code",
      "metadata": {
        "id": "i6idoA7jj84k",
        "colab_type": "code",
        "colab": {}
      },
      "source": [
        "df_filtered = df[['amount','is_invoice_sent','is_bundle','is_amo_lead','access_days','start_date_dow','d1_complete','d1_duration','d2_complete','d2_duration','d3_complete','d3_duration','d4_complete','d4_duration','d5_complete','d5_duration','d6_complete','d6_duration','d20_complete','start_selfie','dz1','sent_video','sent_messages_count']]"
      ],
      "execution_count": 0,
      "outputs": []
    },
    {
      "cell_type": "code",
      "metadata": {
        "id": "k7YpTbvxj87r",
        "colab_type": "code",
        "colab": {
          "base_uri": "https://localhost:8080/",
          "height": 102
        },
        "outputId": "d4eaa2ad-4495-429b-b6b4-d45b65b97e26"
      },
      "source": [
        "df_filtered.rename(columns={'d20_complete':'target'}, inplace=True)"
      ],
      "execution_count": 25,
      "outputs": [
        {
          "output_type": "stream",
          "text": [
            "/usr/local/lib/python3.6/dist-packages/pandas/core/frame.py:4133: SettingWithCopyWarning: \n",
            "A value is trying to be set on a copy of a slice from a DataFrame\n",
            "\n",
            "See the caveats in the documentation: https://pandas.pydata.org/pandas-docs/stable/user_guide/indexing.html#returning-a-view-versus-a-copy\n",
            "  errors=errors,\n"
          ],
          "name": "stderr"
        }
      ]
    },
    {
      "cell_type": "code",
      "metadata": {
        "id": "jX5r8Kpij9Ac",
        "colab_type": "code",
        "colab": {
          "base_uri": "https://localhost:8080/",
          "height": 224
        },
        "outputId": "c752c9fe-a3d4-4a0e-d15e-12da5cef7987"
      },
      "source": [
        "df_filtered.head()"
      ],
      "execution_count": 26,
      "outputs": [
        {
          "output_type": "execute_result",
          "data": {
            "text/html": [
              "<div>\n",
              "<style scoped>\n",
              "    .dataframe tbody tr th:only-of-type {\n",
              "        vertical-align: middle;\n",
              "    }\n",
              "\n",
              "    .dataframe tbody tr th {\n",
              "        vertical-align: top;\n",
              "    }\n",
              "\n",
              "    .dataframe thead th {\n",
              "        text-align: right;\n",
              "    }\n",
              "</style>\n",
              "<table border=\"1\" class=\"dataframe\">\n",
              "  <thead>\n",
              "    <tr style=\"text-align: right;\">\n",
              "      <th></th>\n",
              "      <th>amount</th>\n",
              "      <th>is_invoice_sent</th>\n",
              "      <th>is_bundle</th>\n",
              "      <th>is_amo_lead</th>\n",
              "      <th>access_days</th>\n",
              "      <th>start_date_dow</th>\n",
              "      <th>d1_complete</th>\n",
              "      <th>d1_duration</th>\n",
              "      <th>d2_complete</th>\n",
              "      <th>d2_duration</th>\n",
              "      <th>d3_complete</th>\n",
              "      <th>d3_duration</th>\n",
              "      <th>d4_complete</th>\n",
              "      <th>d4_duration</th>\n",
              "      <th>d5_complete</th>\n",
              "      <th>d5_duration</th>\n",
              "      <th>d6_complete</th>\n",
              "      <th>d6_duration</th>\n",
              "      <th>target</th>\n",
              "      <th>start_selfie</th>\n",
              "      <th>dz1</th>\n",
              "      <th>sent_video</th>\n",
              "      <th>sent_messages_count</th>\n",
              "    </tr>\n",
              "  </thead>\n",
              "  <tbody>\n",
              "    <tr>\n",
              "      <th>4</th>\n",
              "      <td>1886</td>\n",
              "      <td>0</td>\n",
              "      <td>0</td>\n",
              "      <td>0</td>\n",
              "      <td>365</td>\n",
              "      <td>4</td>\n",
              "      <td>1</td>\n",
              "      <td>6</td>\n",
              "      <td>0</td>\n",
              "      <td>0</td>\n",
              "      <td>0</td>\n",
              "      <td>0</td>\n",
              "      <td>0</td>\n",
              "      <td>0</td>\n",
              "      <td>0</td>\n",
              "      <td>0</td>\n",
              "      <td>0</td>\n",
              "      <td>0</td>\n",
              "      <td>0</td>\n",
              "      <td>1</td>\n",
              "      <td>0</td>\n",
              "      <td>0</td>\n",
              "      <td>1</td>\n",
              "    </tr>\n",
              "    <tr>\n",
              "      <th>5</th>\n",
              "      <td>1990</td>\n",
              "      <td>0</td>\n",
              "      <td>0</td>\n",
              "      <td>0</td>\n",
              "      <td>365</td>\n",
              "      <td>6</td>\n",
              "      <td>1</td>\n",
              "      <td>1</td>\n",
              "      <td>0</td>\n",
              "      <td>0</td>\n",
              "      <td>0</td>\n",
              "      <td>0</td>\n",
              "      <td>0</td>\n",
              "      <td>0</td>\n",
              "      <td>0</td>\n",
              "      <td>0</td>\n",
              "      <td>0</td>\n",
              "      <td>0</td>\n",
              "      <td>0</td>\n",
              "      <td>1</td>\n",
              "      <td>0</td>\n",
              "      <td>0</td>\n",
              "      <td>0</td>\n",
              "    </tr>\n",
              "    <tr>\n",
              "      <th>6</th>\n",
              "      <td>3480</td>\n",
              "      <td>0</td>\n",
              "      <td>0</td>\n",
              "      <td>0</td>\n",
              "      <td>59</td>\n",
              "      <td>7</td>\n",
              "      <td>1</td>\n",
              "      <td>0</td>\n",
              "      <td>1</td>\n",
              "      <td>1</td>\n",
              "      <td>1</td>\n",
              "      <td>2</td>\n",
              "      <td>1</td>\n",
              "      <td>3</td>\n",
              "      <td>1</td>\n",
              "      <td>4</td>\n",
              "      <td>1</td>\n",
              "      <td>5</td>\n",
              "      <td>0</td>\n",
              "      <td>0</td>\n",
              "      <td>0</td>\n",
              "      <td>1</td>\n",
              "      <td>4</td>\n",
              "    </tr>\n",
              "    <tr>\n",
              "      <th>7</th>\n",
              "      <td>2350</td>\n",
              "      <td>0</td>\n",
              "      <td>0</td>\n",
              "      <td>0</td>\n",
              "      <td>365</td>\n",
              "      <td>1</td>\n",
              "      <td>0</td>\n",
              "      <td>0</td>\n",
              "      <td>0</td>\n",
              "      <td>0</td>\n",
              "      <td>0</td>\n",
              "      <td>0</td>\n",
              "      <td>0</td>\n",
              "      <td>0</td>\n",
              "      <td>0</td>\n",
              "      <td>0</td>\n",
              "      <td>0</td>\n",
              "      <td>0</td>\n",
              "      <td>0</td>\n",
              "      <td>0</td>\n",
              "      <td>0</td>\n",
              "      <td>0</td>\n",
              "      <td>0</td>\n",
              "    </tr>\n",
              "    <tr>\n",
              "      <th>8</th>\n",
              "      <td>1904</td>\n",
              "      <td>0</td>\n",
              "      <td>0</td>\n",
              "      <td>1</td>\n",
              "      <td>365</td>\n",
              "      <td>4</td>\n",
              "      <td>1</td>\n",
              "      <td>6</td>\n",
              "      <td>1</td>\n",
              "      <td>8</td>\n",
              "      <td>1</td>\n",
              "      <td>12</td>\n",
              "      <td>1</td>\n",
              "      <td>14</td>\n",
              "      <td>1</td>\n",
              "      <td>34</td>\n",
              "      <td>1</td>\n",
              "      <td>41</td>\n",
              "      <td>0</td>\n",
              "      <td>1</td>\n",
              "      <td>0</td>\n",
              "      <td>0</td>\n",
              "      <td>0</td>\n",
              "    </tr>\n",
              "  </tbody>\n",
              "</table>\n",
              "</div>"
            ],
            "text/plain": [
              "   amount  is_invoice_sent  is_bundle  ...  dz1  sent_video  sent_messages_count\n",
              "4    1886                0          0  ...    0           0                    1\n",
              "5    1990                0          0  ...    0           0                    0\n",
              "6    3480                0          0  ...    0           1                    4\n",
              "7    2350                0          0  ...    0           0                    0\n",
              "8    1904                0          0  ...    0           0                    0\n",
              "\n",
              "[5 rows x 23 columns]"
            ]
          },
          "metadata": {
            "tags": []
          },
          "execution_count": 26
        }
      ]
    },
    {
      "cell_type": "code",
      "metadata": {
        "id": "7z9Ldh4Cj9Dr",
        "colab_type": "code",
        "colab": {}
      },
      "source": [
        "from sklearn.model_selection import train_test_split\n",
        "from sklearn.preprocessing import StandardScaler"
      ],
      "execution_count": 0,
      "outputs": []
    },
    {
      "cell_type": "code",
      "metadata": {
        "id": "2k_COWtcj9Fz",
        "colab_type": "code",
        "colab": {
          "base_uri": "https://localhost:8080/",
          "height": 136
        },
        "outputId": "e079101f-c102-4e2a-c2f0-6e091b43e335"
      },
      "source": [
        "df_filtered.columns"
      ],
      "execution_count": 28,
      "outputs": [
        {
          "output_type": "execute_result",
          "data": {
            "text/plain": [
              "Index(['amount', 'is_invoice_sent', 'is_bundle', 'is_amo_lead', 'access_days',\n",
              "       'start_date_dow', 'd1_complete', 'd1_duration', 'd2_complete',\n",
              "       'd2_duration', 'd3_complete', 'd3_duration', 'd4_complete',\n",
              "       'd4_duration', 'd5_complete', 'd5_duration', 'd6_complete',\n",
              "       'd6_duration', 'target', 'start_selfie', 'dz1', 'sent_video',\n",
              "       'sent_messages_count'],\n",
              "      dtype='object')"
            ]
          },
          "metadata": {
            "tags": []
          },
          "execution_count": 28
        }
      ]
    },
    {
      "cell_type": "code",
      "metadata": {
        "id": "ICxtOxc-qGHL",
        "colab_type": "code",
        "colab": {}
      },
      "source": [
        "X, y = df_filtered[['amount', 'is_invoice_sent', 'is_bundle', 'is_amo_lead', 'access_days',\n",
        "       'start_date_dow', 'd1_complete', 'd1_duration', 'd2_complete',\n",
        "       'd2_duration', 'd3_complete', 'd3_duration', 'd4_complete',\n",
        "       'd4_duration', 'd5_complete', 'd5_duration', 'd6_complete',\n",
        "       'd6_duration', 'start_selfie', 'dz1', 'sent_video',\n",
        "       'sent_messages_count']], df_filtered[['target']]"
      ],
      "execution_count": 0,
      "outputs": []
    },
    {
      "cell_type": "code",
      "metadata": {
        "id": "zMst-_p-qbyZ",
        "colab_type": "code",
        "colab": {}
      },
      "source": [
        "X_train, X_test, y_train, y_test = train_test_split(X, y, test_size=0.2)"
      ],
      "execution_count": 0,
      "outputs": []
    },
    {
      "cell_type": "code",
      "metadata": {
        "id": "g2akMA9RqoEo",
        "colab_type": "code",
        "colab": {}
      },
      "source": [
        "sc = StandardScaler()\n",
        "X_train = sc.fit_transform(X_train)\n",
        "X_test = sc.transform(X_test)"
      ],
      "execution_count": 0,
      "outputs": []
    },
    {
      "cell_type": "code",
      "metadata": {
        "id": "HZBbBuGxqxZ1",
        "colab_type": "code",
        "colab": {}
      },
      "source": [
        "X_train = pd.DataFrame(X_train, columns=X.columns)\n",
        "X_test = pd.DataFrame(X_test, columns=X.columns)"
      ],
      "execution_count": 0,
      "outputs": []
    },
    {
      "cell_type": "code",
      "metadata": {
        "id": "nzrV5dRIq-uI",
        "colab_type": "code",
        "colab": {}
      },
      "source": [
        "from sklearn.ensemble import RandomForestClassifier"
      ],
      "execution_count": 0,
      "outputs": []
    },
    {
      "cell_type": "code",
      "metadata": {
        "id": "OL524zW5rSES",
        "colab_type": "code",
        "colab": {}
      },
      "source": [
        "clf = RandomForestClassifier(criterion='gini')"
      ],
      "execution_count": 0,
      "outputs": []
    },
    {
      "cell_type": "code",
      "metadata": {
        "id": "GENp6yGzso9M",
        "colab_type": "code",
        "colab": {
          "base_uri": "https://localhost:8080/",
          "height": 207
        },
        "outputId": "413d7540-9cda-4789-98cd-60f8b12cbf86"
      },
      "source": [
        "clf.fit(X_train, y_train)"
      ],
      "execution_count": 39,
      "outputs": [
        {
          "output_type": "stream",
          "text": [
            "/usr/local/lib/python3.6/dist-packages/ipykernel_launcher.py:1: DataConversionWarning: A column-vector y was passed when a 1d array was expected. Please change the shape of y to (n_samples,), for example using ravel().\n",
            "  \"\"\"Entry point for launching an IPython kernel.\n"
          ],
          "name": "stderr"
        },
        {
          "output_type": "execute_result",
          "data": {
            "text/plain": [
              "RandomForestClassifier(bootstrap=True, ccp_alpha=0.0, class_weight=None,\n",
              "                       criterion='gini', max_depth=None, max_features='auto',\n",
              "                       max_leaf_nodes=None, max_samples=None,\n",
              "                       min_impurity_decrease=0.0, min_impurity_split=None,\n",
              "                       min_samples_leaf=1, min_samples_split=2,\n",
              "                       min_weight_fraction_leaf=0.0, n_estimators=100,\n",
              "                       n_jobs=None, oob_score=False, random_state=None,\n",
              "                       verbose=0, warm_start=False)"
            ]
          },
          "metadata": {
            "tags": []
          },
          "execution_count": 39
        }
      ]
    },
    {
      "cell_type": "code",
      "metadata": {
        "id": "34tYCSBjssSf",
        "colab_type": "code",
        "colab": {}
      },
      "source": [
        "from sklearn.metrics import accuracy_score, precision_score, recall_score, f1_score"
      ],
      "execution_count": 0,
      "outputs": []
    },
    {
      "cell_type": "code",
      "metadata": {
        "id": "kwFbl5eHtGyS",
        "colab_type": "code",
        "colab": {
          "base_uri": "https://localhost:8080/",
          "height": 34
        },
        "outputId": "7251096b-7411-43a9-f480-1fb02b9c0baa"
      },
      "source": [
        "accuracy_score(y_test, clf.predict(X_test))"
      ],
      "execution_count": 41,
      "outputs": [
        {
          "output_type": "execute_result",
          "data": {
            "text/plain": [
              "0.8475659727913457"
            ]
          },
          "metadata": {
            "tags": []
          },
          "execution_count": 41
        }
      ]
    },
    {
      "cell_type": "code",
      "metadata": {
        "id": "CdCi7rbStM8P",
        "colab_type": "code",
        "colab": {
          "base_uri": "https://localhost:8080/",
          "height": 34
        },
        "outputId": "f76b565e-8a9c-4a1f-bb9a-0fcf839f19c7"
      },
      "source": [
        "precision_score(y_test, clf.predict(X_test))"
      ],
      "execution_count": 42,
      "outputs": [
        {
          "output_type": "execute_result",
          "data": {
            "text/plain": [
              "0.6668537749087847"
            ]
          },
          "metadata": {
            "tags": []
          },
          "execution_count": 42
        }
      ]
    },
    {
      "cell_type": "code",
      "metadata": {
        "id": "FILnPct7tM-z",
        "colab_type": "code",
        "colab": {
          "base_uri": "https://localhost:8080/",
          "height": 34
        },
        "outputId": "85cd7055-5ff2-44ae-ea62-6c2073b2c1b0"
      },
      "source": [
        "recall_score(y_test, clf.predict(X_test))"
      ],
      "execution_count": 43,
      "outputs": [
        {
          "output_type": "execute_result",
          "data": {
            "text/plain": [
              "0.5971349585322946"
            ]
          },
          "metadata": {
            "tags": []
          },
          "execution_count": 43
        }
      ]
    },
    {
      "cell_type": "code",
      "metadata": {
        "id": "kv2S7JOntNBu",
        "colab_type": "code",
        "colab": {
          "base_uri": "https://localhost:8080/",
          "height": 34
        },
        "outputId": "d7fd0341-db4e-482b-b4a9-cd8019ea6adc"
      },
      "source": [
        "f1_score(y_test, clf.predict(X_test))"
      ],
      "execution_count": 44,
      "outputs": [
        {
          "output_type": "execute_result",
          "data": {
            "text/plain": [
              "0.630071599045346"
            ]
          },
          "metadata": {
            "tags": []
          },
          "execution_count": 44
        }
      ]
    },
    {
      "cell_type": "code",
      "metadata": {
        "id": "xlp0zmnitNEi",
        "colab_type": "code",
        "colab": {}
      },
      "source": [
        ""
      ],
      "execution_count": 0,
      "outputs": []
    },
    {
      "cell_type": "code",
      "metadata": {
        "id": "0ooAhuDXtNHK",
        "colab_type": "code",
        "colab": {}
      },
      "source": [
        ""
      ],
      "execution_count": 0,
      "outputs": []
    }
  ]
}