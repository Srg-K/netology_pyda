{
 "cells": [
  {
   "cell_type": "code",
   "execution_count": 1,
   "metadata": {},
   "outputs": [
    {
     "name": "stderr",
     "output_type": "stream",
     "text": [
      "/opt/anaconda3/lib/python3.7/site-packages/psycopg2/__init__.py:144: UserWarning: The psycopg2 wheel package will be renamed from release 2.8; in order to keep installing from binary please use \"pip install psycopg2-binary\" instead. For details see: <http://initd.org/psycopg/docs/install.html#binary-install-from-pypi>.\n",
      "  \"\"\")\n"
     ]
    },
    {
     "ename": "ModuleNotFoundError",
     "evalue": "No module named 'httplib2'",
     "output_type": "error",
     "traceback": [
      "\u001b[0;31m---------------------------------------------------------------------------\u001b[0m",
      "\u001b[0;31mModuleNotFoundError\u001b[0m                       Traceback (most recent call last)",
      "\u001b[0;32m<ipython-input-1-a4a49c34cceb>\u001b[0m in \u001b[0;36m<module>\u001b[0;34m\u001b[0m\n\u001b[1;32m      1\u001b[0m \u001b[0;32mimport\u001b[0m \u001b[0mpsycopg2\u001b[0m\u001b[0;34m\u001b[0m\u001b[0;34m\u001b[0m\u001b[0m\n\u001b[1;32m      2\u001b[0m \u001b[0;32mimport\u001b[0m \u001b[0mpandas\u001b[0m \u001b[0;32mas\u001b[0m \u001b[0mpd\u001b[0m\u001b[0;34m\u001b[0m\u001b[0;34m\u001b[0m\u001b[0m\n\u001b[0;32m----> 3\u001b[0;31m \u001b[0;32mimport\u001b[0m \u001b[0mhttplib2\u001b[0m\u001b[0;34m\u001b[0m\u001b[0;34m\u001b[0m\u001b[0m\n\u001b[0m\u001b[1;32m      4\u001b[0m \u001b[0;32mimport\u001b[0m \u001b[0mapiclient\u001b[0m\u001b[0;34m.\u001b[0m\u001b[0mdiscovery\u001b[0m\u001b[0;34m\u001b[0m\u001b[0;34m\u001b[0m\u001b[0m\n\u001b[1;32m      5\u001b[0m \u001b[0;32mimport\u001b[0m \u001b[0mdatetime\u001b[0m\u001b[0;34m\u001b[0m\u001b[0;34m\u001b[0m\u001b[0m\n",
      "\u001b[0;31mModuleNotFoundError\u001b[0m: No module named 'httplib2'"
     ]
    }
   ],
   "source": [
    "import psycopg2\n",
    "import pandas as pd\n",
    "import httplib2\n",
    "import apiclient.discovery\n",
    "import datetime\n",
    "from oauth2client.service_account import ServiceAccountCredentials\n",
    "\n",
    "class Sqlquerry():\n",
    "    '''Class to send SQL-Querry to backend DB and put result to the spreadsheet'''\n",
    "    \n",
    "    def __init__(self, db_querry, spreadsheetId):\n",
    "        self.db_querry = db_querry\n",
    "        self.spreadsheetId = spreadsheetId\n",
    "\n",
    "        CREDENTIALS_FILE = 'testapi-263014-a34e6c59997b.json'\n",
    "        self.credentials = ServiceAccountCredentials.from_json_keyfile_name(CREDENTIALS_FILE,\n",
    "                                                                       ['https://www.googleapis.com/auth/spreadsheets',\n",
    "                                                                        'https://www.googleapis.com/auth/drive'])\n",
    "        self.httpAuth = self.credentials.authorize(httplib2.Http())\n",
    "        self.service = apiclient.discovery.build('sheets', 'v4', http = self.httpAuth)\n",
    "        \n",
    "\n",
    "        \n",
    "    def dbquerry(self):\n",
    "        '''Sending SQL-Querry to DB and returns Pandas DataFrame'''\n",
    "        \n",
    "        conn = psycopg2.connect(\"dbname='anyclass_prod' user='analytic' host='10.10.3.87' password='I59vPF59sbc6o9Lly'\")\n",
    "        data = pd.read_sql(self.db_querry, conn)\n",
    "        self.data = data\n",
    "        \n",
    "        \n",
    "    \n",
    "    def date_transform(self):\n",
    "        '''Returns reporting date, querry results and defines range of sheet to fill in'''\n",
    "        \n",
    "        date_reported, created_qty, created_sum, paid_qty, paid_sum = self.data.values.tolist()[0]\n",
    "        \n",
    "        date_reported = datetime.datetime.strptime(str(date_reported),\n",
    "                                                   '%Y-%m-%d %H:%M:%S').strftime('%d.%m.%Y')                                \n",
    "        \n",
    "        \n",
    "        date_check_result = self.service.spreadsheets().values().get(\n",
    "            spreadsheetId=self.spreadsheetId, range='dataDB!A2:A').execute()\n",
    "        date_check_rows = date_check_result.get('values', [])\n",
    "        \n",
    "        \n",
    "        cell_no = 0\n",
    "        \n",
    "        for element in date_check_rows:\n",
    "            if element[0] != date_reported:\n",
    "                cell_no += 1\n",
    "            else:\n",
    "                cell_no += 2\n",
    "                break\n",
    "                \n",
    "        fill_range = f'dataDB!B{cell_no}'\n",
    "        \n",
    "        created_qty = created_qty if created_qty else 0\n",
    "        created_sum = created_sum if created_sum else 0\n",
    "        paid_qty = paid_qty if paid_qty else 0\n",
    "        paid_sum = paid_sum if paid_sum else 0\n",
    "        \n",
    "        self.date_reported, self.created_qty, self.created_sum, self.paid_qty, \\\n",
    "        self.paid_sum, self.fill_range = date_reported, created_qty, created_sum, \\\n",
    "        paid_qty, paid_sum, fill_range\n",
    "        \n",
    "\n",
    "    \n",
    "    def fill_in(self):\n",
    "        '''Executes values placing into sheet range defined'''\n",
    "        \n",
    "        current_ts = datetime.datetime.now().strftime(\"%Y-%m-%d %H:%M:%S\")\n",
    "        \n",
    "        results = self.service.spreadsheets().values().batchUpdate(\n",
    "            spreadsheetId = self.spreadsheetId, body = {\n",
    "                \"valueInputOption\": \"USER_ENTERED\",\n",
    "                \"data\": [\n",
    "                    {\"range\": self.fill_range,\n",
    "                     \"majorDimension\": \"ROWS\",\n",
    "                     \"values\": [[current_ts, self.created_sum, self.created_qty, self.paid_sum, self.paid_qty]]}\n",
    "                ]\n",
    "            }).execute()\n",
    "        \n",
    "        \n",
    "    def class_execute(self):\n",
    "        '''Executes class methods'''\n",
    "        self.dbquerry()\n",
    "        self.date_transform()\n",
    "        self.fill_in()"
   ]
  },
  {
   "cell_type": "code",
   "execution_count": null,
   "metadata": {},
   "outputs": [],
   "source": []
  }
 ],
 "metadata": {
  "kernelspec": {
   "display_name": "Python 3",
   "language": "python",
   "name": "python3"
  },
  "language_info": {
   "codemirror_mode": {
    "name": "ipython",
    "version": 3
   },
   "file_extension": ".py",
   "mimetype": "text/x-python",
   "name": "python",
   "nbconvert_exporter": "python",
   "pygments_lexer": "ipython3",
   "version": "3.7.4"
  }
 },
 "nbformat": 4,
 "nbformat_minor": 2
}
