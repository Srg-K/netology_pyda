{
 "cells": [
  {
   "cell_type": "markdown",
   "metadata": {},
   "source": [
    "## Задание 1"
   ]
  },
  {
   "cell_type": "markdown",
   "metadata": {},
   "source": [
    "Дан список вида:"
   ]
  },
  {
   "cell_type": "code",
   "execution_count": 1,
   "metadata": {},
   "outputs": [],
   "source": [
    "data = [\n",
    "    [13, 25, 23, 34],\n",
    "    [45, 32, 44, 47],\n",
    "    [12, 33, 23, 95],\n",
    "    [13, 53, 34, 35]\n",
    "]"
   ]
  },
  {
   "cell_type": "code",
   "execution_count": 2,
   "metadata": {},
   "outputs": [
    {
     "name": "stdout",
     "output_type": "stream",
     "text": [
      "103\n"
     ]
    }
   ],
   "source": [
    "def function(data):\n",
    "    position = 0\n",
    "    count = 0\n",
    "    for i in data:\n",
    "        count += i[position]\n",
    "        position += 1\n",
    "    print(count)\n",
    "    \n",
    "function(data)"
   ]
  },
  {
   "cell_type": "markdown",
   "metadata": {},
   "source": [
    "Напишите функцию, которая возвращает сумму элементов на диагонали. Т. е. 13+32+23+35."
   ]
  },
  {
   "cell_type": "markdown",
   "metadata": {},
   "source": [
    "## Задание 2"
   ]
  },
  {
   "cell_type": "markdown",
   "metadata": {},
   "source": [
    "Дан список чисел, часть из которых имеют строковый тип или содержат буквы. Напишите функцию, которая возвращает сумму квадратов элементов, которые могут быть числами."
   ]
  },
  {
   "cell_type": "code",
   "execution_count": 6,
   "metadata": {},
   "outputs": [],
   "source": [
    "data = [1, '5', 'abc', 20, '2']"
   ]
  },
  {
   "cell_type": "code",
   "execution_count": 7,
   "metadata": {},
   "outputs": [
    {
     "name": "stdout",
     "output_type": "stream",
     "text": [
      "430\n"
     ]
    }
   ],
   "source": [
    "def sum_power():\n",
    "    digits = []\n",
    "    for i in data:\n",
    "        values = str(i)\n",
    "        if values.isdigit():\n",
    "            digits.append(int(values) ** 2)\n",
    "    print(sum(digits))\n",
    "\n",
    "sum_power()"
   ]
  },
  {
   "cell_type": "markdown",
   "metadata": {},
   "source": [
    "## Задание 3"
   ]
  },
  {
   "cell_type": "markdown",
   "metadata": {},
   "source": [
    "Напишите функцию, возвращающую сумму первых n чисел Фибоначчи."
   ]
  },
  {
   "cell_type": "code",
   "execution_count": 3,
   "metadata": {},
   "outputs": [
    {
     "name": "stdout",
     "output_type": "stream",
     "text": [
      "927372692193078999175\n"
     ]
    }
   ],
   "source": [
    "def fibonacci(n):\n",
    "    fib1, fib2 = 0, 1\n",
    "    for i in range(n):\n",
    "        fib1, fib2 = fib2, fib1 + fib2\n",
    "        yield fib1\n",
    "\n",
    "def sum_feb(n):\n",
    "    print(sum(fibonacci(n)))\n",
    "\n",
    "sum_feb(100)\n"
   ]
  },
  {
   "cell_type": "markdown",
   "metadata": {},
   "source": [
    "## Задание 4"
   ]
  },
  {
   "cell_type": "markdown",
   "metadata": {},
   "source": [
    "Дан набор данных об обучении студентов на курсе программирования, который содержит: \n",
    "1) имя\n",
    "2) фамилию \n",
    "3) пол \n",
    "4) наличие у студента опыта в программировании \n",
    "5) набор оценок за домашние работы \n",
    "6) оценку за итоговую работу.\n",
    "\n",
    "Напишите программу, которая будет принимать команду от пользователя и возвращать соотвествующий результат.\n",
    "Список команд: \n",
    "1 - вывести на экран среднюю оценку за все ДЗ по группе и вывести на экран среднюю оценку за экзамен по группе;\n",
    "2 - вывести среднюю оценку за ДЗ и за экзамен по группе в разрезе пола студентов\n",
    "3 - вывести среднюю оценку за ДЗ и за экзамен в разрезе наличия опыта в программировании у студентов.\n",
    "\n",
    "Прогрмма должна быть полностью декомпозирована на функции (кроме объявления функций и вызова итоговой функции в реализации ничего быть не должно)."
   ]
  },
  {
   "cell_type": "code",
   "execution_count": 52,
   "metadata": {},
   "outputs": [],
   "source": [
    "students_list = [\n",
    "    {'name': 'Василий', 'surname': 'Теркин', 'sex': 'м', 'program_exp': True, 'grade': [8, 8, 9, 10, 9], 'exam': 9},\n",
    "    {'name': 'Мария', 'surname': 'Павлова', 'sex': 'ж', 'program_exp': True, 'grade': [7, 8, 9, 7, 9], 'exam': 8},\n",
    "    {'name': 'Ирина', 'surname': 'Андреева', 'sex': 'ж', 'program_exp': True, 'grade': [10, 9, 8, 10, 10], 'exam': 10},\n",
    "    {'name': 'Татьяна', 'surname': 'Сидорова', 'sex': 'ж', 'program_exp': True, 'grade': [7, 8, 8, 9, 8], 'exam': 8},\n",
    "    {'name': 'Иван', 'surname': 'Васильев', 'sex': 'ж', 'program_exp': True, 'grade': [9, 8, 9, 6, 9], 'exam': 10},\n",
    "    {'name': 'Роман', 'surname': 'Золотарев', 'sex': 'ж', 'program_exp': False, 'grade': [8, 9, 9, 6, 9], 'exam': 10}\n",
    "]"
   ]
  },
  {
   "cell_type": "code",
   "execution_count": 94,
   "metadata": {},
   "outputs": [
    {
     "name": "stdout",
     "output_type": "stream",
     "text": [
      "Средняя оценка за все ДЗ по группе: 8 \n",
      "Cредняя оценка за экзамен по группе: 9\n"
     ]
    }
   ],
   "source": [
    "def command_1():\n",
    "    homework_est = 0\n",
    "    homework_count = 0\n",
    "    exam_est = 0\n",
    "    exam_count = 0\n",
    "    for students in students_list:\n",
    "        for i in students['grade']:\n",
    "            homework_est += i\n",
    "            homework_count += 1\n",
    "        exam_est += students['exam']\n",
    "        exam_count += 1\n",
    "    print(f'Средняя оценка за все ДЗ по группе: {round(homework_est / homework_count)} \\nCредняя оценка за экзамен по группе: {round(exam_est / exam_count)}')\n",
    "\n",
    "command_1()"
   ]
  },
  {
   "cell_type": "code",
   "execution_count": 103,
   "metadata": {},
   "outputs": [
    {
     "name": "stdout",
     "output_type": "stream",
     "text": [
      "Средняя оценка ДЗ для пола М: 8.8\n",
      "Средняя оценка ДЗ для пола Ж: 8.36\n",
      "Средняя оценка за экзамен для пола М: 9.0\n",
      "Средняя оценка за экзамен для пола Ж: 9.2\n"
     ]
    }
   ],
   "source": [
    "def command_2():\n",
    "    hw_m = []\n",
    "    hw_f = []\n",
    "    exam_m = []\n",
    "    exam_f = []\n",
    "    for students in students_list:\n",
    "        for i in students['grade']:\n",
    "            if students['sex'] == 'м':\n",
    "                hw_m.append(i)\n",
    "            else:\n",
    "                hw_f.append(i)\n",
    "        if students['sex'] == 'м':\n",
    "            exam_m.append(students['exam'])\n",
    "        else:\n",
    "            exam_f.append(students['exam'])\n",
    "\n",
    "    print(f'Средняя оценка ДЗ для пола М: {sum(hw_m) / len(hw_m)}')\n",
    "    print(f'Средняя оценка ДЗ для пола Ж: {sum(hw_f) / len(hw_f)}')\n",
    "    print(f'Средняя оценка за экзамен для пола М: {sum(exam_m) / len(exam_m)}')\n",
    "    print(f'Средняя оценка за экзамен для пола Ж: {sum(exam_f) / len(exam_f)}')\n",
    "\n",
    "command_2()"
   ]
  },
  {
   "cell_type": "code",
   "execution_count": 107,
   "metadata": {},
   "outputs": [
    {
     "name": "stdout",
     "output_type": "stream",
     "text": [
      "Средняя оценка ДЗ для имеющих опыт: 8.48\n",
      "Средняя оценка ДЗ для неимеющих опыт: 8.2\n",
      "Средняя оценка за экзамен для имеющих опыт: 9.0\n",
      "Средняя оценка за экзамен для неимеющих опыт: 10.0\n"
     ]
    }
   ],
   "source": [
    "def command_3():\n",
    "    hw_pe = []\n",
    "    hw_nope = []\n",
    "    exam_pe = []\n",
    "    exam_nope = []\n",
    "    for students in students_list:\n",
    "        for i in students['grade']:\n",
    "            if students['program_exp'] == True:\n",
    "                hw_pe.append(i)\n",
    "            else:\n",
    "                hw_nope.append(i)\n",
    "        if students['program_exp'] == True:\n",
    "            exam_pe.append(students['exam'])\n",
    "        else:\n",
    "            exam_nope.append(students['exam'])\n",
    "\n",
    "    print(f'Средняя оценка ДЗ для имеющих опыт: {sum(hw_pe) / len(hw_pe)}')\n",
    "    print(f'Средняя оценка ДЗ для неимеющих опыт: {sum(hw_nope) / len(hw_nope)}')\n",
    "    print(f'Средняя оценка за экзамен для имеющих опыт: {sum(exam_pe) / len(exam_pe)}')\n",
    "    print(f'Средняя оценка за экзамен для неимеющих опыт: {sum(exam_nope) / len(exam_nope)}')\n",
    "\n",
    "command_3()"
   ]
  },
  {
   "cell_type": "code",
   "execution_count": 115,
   "metadata": {},
   "outputs": [
    {
     "name": "stdout",
     "output_type": "stream",
     "text": [
      "Средняя оценка за все ДЗ по группе: 8 \n",
      "Cредняя оценка за экзамен по группе: 9\n",
      "\n",
      "Средняя оценка ДЗ для пола М: 8.8\n",
      "Средняя оценка ДЗ для пола Ж: 8.36\n",
      "Средняя оценка за экзамен для пола М: 9.0\n",
      "Средняя оценка за экзамен для пола Ж: 9.2\n",
      "\n",
      "Средняя оценка ДЗ для имеющих опыт: 8.48\n",
      "Средняя оценка ДЗ для неимеющих опыт: 8.2\n",
      "Средняя оценка за экзамен для имеющих опыт: 9.0\n",
      "Средняя оценка за экзамен для неимеющих опыт: 10.0\n"
     ]
    }
   ],
   "source": [
    "def command_final():\n",
    "    command_1()\n",
    "    print('')\n",
    "    command_2()\n",
    "    print('')\n",
    "    command_3()\n",
    "\n",
    "command_final()"
   ]
  }
 ],
 "metadata": {
  "kernelspec": {
   "display_name": "Python 3",
   "language": "python",
   "name": "python3"
  },
  "language_info": {
   "codemirror_mode": {
    "name": "ipython",
    "version": 3
   },
   "file_extension": ".py",
   "mimetype": "text/x-python",
   "name": "python",
   "nbconvert_exporter": "python",
   "pygments_lexer": "ipython3",
   "version": "3.7.4"
  }
 },
 "nbformat": 4,
 "nbformat_minor": 2
}
